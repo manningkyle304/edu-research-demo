{
  "cells": [
    {
      "cell_type": "code",
      "metadata": {
        "tags": [],
        "cell_id": "00000-5b4421a5-afae-42c3-afe3-ef79f4844295",
        "deepnote_to_be_reexecuted": false,
        "source_hash": "6832fdbd",
        "execution_millis": 3950,
        "execution_start": 1618855032631,
        "deepnote_cell_type": "code"
      },
      "source": "import pandas as pd\nimport numpy as np\nfrom matplotlib import pyplot as plt\n\n#import utils \n#reloads modules automagically, changes\n#to code update without having to close the notebook\n%load_ext autoreload\n%autoreload 2\n\nimport os\n\nfrom bs4 import BeautifulSoup\nimport blooms_preprocess_utils\nimport textstat\n\nfrom snorkel.labeling import labeling_function\nfrom snorkel.labeling.model import LabelModel\n\n\nfrom sklearn.model_selection import train_test_split\nimport pickle\nimport seaborn as sns\n\nfrom sklearn.svm import SVC\n\nfrom sklearn.feature_extraction.text import TfidfVectorizer",
      "execution_count": null,
      "outputs": []
    },
    {
      "cell_type": "code",
      "metadata": {
        "tags": [],
        "cell_id": "00001-2e85d075-5b33-404b-b1e2-7316ed07ec68",
        "deepnote_to_be_reexecuted": false,
        "source_hash": "6b8fb07",
        "execution_millis": 56,
        "execution_start": 1618855036585,
        "deepnote_cell_type": "code"
      },
      "source": "label_model = LabelModel(cardinality=2, verbose=True)\nblooms_labeler = label_model.load('./best_label_model.pkl')",
      "execution_count": null,
      "outputs": []
    },
    {
      "cell_type": "code",
      "metadata": {
        "tags": [],
        "cell_id": "00002-0d6fdeb1-543c-4f9c-86c9-2bf1eddc0912",
        "deepnote_to_be_reexecuted": true,
        "source_hash": "ddafaaa5",
        "execution_millis": 96,
        "deepnote_cell_type": "code"
      },
      "source": "X_train_weak = pd.read_csv('./vectorizer_data/X_train_weak.csv', index_col=0)\nX_train_weak.head()",
      "execution_count": null,
      "outputs": [
        {
          "output_type": "execute_result",
          "execution_count": 65,
          "data": {
            "application/vnd.deepnote.dataframe.v2+json": {
              "row_count": 5,
              "column_count": 1,
              "columns": [
                {
                  "name": "text",
                  "dtype": "object",
                  "stats": {
                    "unique_count": 5,
                    "nan_count": 0,
                    "categories": [
                      {
                        "name": "Define selectively permeable in your own words.",
                        "count": 1
                      },
                      {
                        "name": "Why did the Spanish build their colonies alongside Native American communities such as the Tenochtitlan?",
                        "count": 1
                      },
                      {
                        "name": "3 others",
                        "count": 3
                      }
                    ]
                  }
                },
                {
                  "name": "_deepnote_index_column",
                  "dtype": "int64"
                }
              ],
              "rows_top": [
                {
                  "text": "Define selectively permeable in your own words.",
                  "_deepnote_index_column": 0
                },
                {
                  "text": "Why did the Spanish build their colonies alongside Native American communities such as the Tenochtitlan?",
                  "_deepnote_index_column": 1
                },
                {
                  "text": "A curved mirror produces a virtual image that appears to be 28.0\\,\\text{cm} behind the mirror. If the object is 21.0\\,\\text{cm} in front of the mirror and 6.0\\,\\text{cm} high, how high does the virtual image appear to be? What is the focal length of the mirror? (Construct a ray diagram, using paper, a pencil, and a ruler, to confirm your calculation.)",
                  "_deepnote_index_column": 2
                },
                {
                  "text": "When closely related individuals mate with each other, or inbreed, the offspring are often not as fit as the offspring of two unrelated individuals. Why?",
                  "_deepnote_index_column": 4
                },
                {
                  "text": "Define interstitial cell of Leydig in your own words.",
                  "_deepnote_index_column": 5
                }
              ],
              "rows_bottom": null
            },
            "text/plain": "                                                text\n0    Define selectively permeable in your own words.\n1  Why did the Spanish build their colonies along...\n2  A curved mirror produces a virtual image that ...\n4  When closely related individuals mate with eac...\n5  Define interstitial cell of Leydig in your own...",
            "text/html": "<div>\n<style scoped>\n    .dataframe tbody tr th:only-of-type {\n        vertical-align: middle;\n    }\n\n    .dataframe tbody tr th {\n        vertical-align: top;\n    }\n\n    .dataframe thead th {\n        text-align: right;\n    }\n</style>\n<table border=\"1\" class=\"dataframe\">\n  <thead>\n    <tr style=\"text-align: right;\">\n      <th></th>\n      <th>text</th>\n    </tr>\n  </thead>\n  <tbody>\n    <tr>\n      <th>0</th>\n      <td>Define selectively permeable in your own words.</td>\n    </tr>\n    <tr>\n      <th>1</th>\n      <td>Why did the Spanish build their colonies along...</td>\n    </tr>\n    <tr>\n      <th>2</th>\n      <td>A curved mirror produces a virtual image that ...</td>\n    </tr>\n    <tr>\n      <th>4</th>\n      <td>When closely related individuals mate with eac...</td>\n    </tr>\n    <tr>\n      <th>5</th>\n      <td>Define interstitial cell of Leydig in your own...</td>\n    </tr>\n  </tbody>\n</table>\n</div>"
          },
          "metadata": {}
        }
      ]
    },
    {
      "cell_type": "code",
      "metadata": {
        "tags": [],
        "cell_id": "00005-c524bdd5-b4c3-410f-acb9-139f470eaed3",
        "deepnote_to_be_reexecuted": false,
        "source_hash": "4fcbdd82",
        "execution_millis": 39127,
        "execution_start": 1618855036646,
        "deepnote_cell_type": "code"
      },
      "source": "X_train_weak = pd.read_csv('./vectorizer_data/X_train_weak.csv', index_col=0)['text']\ny_train_weak = pd.read_csv('./vectorizer_data/y_train_weak.csv', index_col=0)\n\nX_train = pd.read_csv('./vectorizer_data/X_train.csv', index_col=0)['text']\ny_train = pd.read_csv('./vectorizer_data/y_train.csv', index_col=0)\n\nX_test = pd.read_csv('./vectorizer_data/X_test.csv', index_col=0)['text']\ny_test = pd.read_csv('./vectorizer_data/y_test.csv', index_col=0)\n\n\nv = TfidfVectorizer()\n\nx_train_weak = v.fit_transform(X_train_weak.values.astype('U'))\nx_test_weak = v.transform(X_test.values.astype('U'))\n\nv = TfidfVectorizer()\n\nx_train = v.fit_transform(X_train.values.astype('U'))\nx_test = v.transform(X_test.values.astype('U'))\n\n\nlin_svm_supervised = SVC(kernel=\"linear\", C=0.025)\nlin_svm_supervised.fit(x_train, y_train);\n\n#### weak supervision portion\nlin_svm_weak = SVC(kernel=\"linear\", C=0.025)\nlin_svm_weak.fit(x_train_weak, y_train_weak);\n\n",
      "execution_count": null,
      "outputs": [
        {
          "name": "stderr",
          "text": "/root/venv/lib/python3.7/site-packages/sklearn/utils/validation.py:724: DataConversionWarning: A column-vector y was passed when a 1d array was expected. Please change the shape of y to (n_samples, ), for example using ravel().\n  y = column_or_1d(y, warn=True)\n",
          "output_type": "stream"
        }
      ]
    },
    {
      "cell_type": "code",
      "metadata": {
        "tags": [],
        "cell_id": "00004-09fd1566-6ef3-4f27-8037-aae374d257f6",
        "deepnote_to_be_reexecuted": false,
        "source_hash": "a7d6a23b",
        "execution_millis": 768,
        "execution_start": 1618855075776,
        "deepnote_cell_type": "code"
      },
      "source": "print(lin_svm_weak.coef_.shape[-1])\nlin_svm_supervised.coef_.shape[-1]\n",
      "execution_count": null,
      "outputs": [
        {
          "name": "stdout",
          "text": "14099\n",
          "output_type": "stream"
        },
        {
          "output_type": "execute_result",
          "execution_count": 4,
          "data": {
            "text/plain": "14829"
          },
          "metadata": {}
        }
      ]
    },
    {
      "cell_type": "markdown",
      "source": "## Predicting labels\n\n- go through questions\n- show label activation",
      "metadata": {
        "tags": [],
        "cell_id": "00002-d66d280d-78d7-426e-9aa0-dd968c4946a5",
        "deepnote_cell_type": "markdown"
      }
    },
    {
      "cell_type": "markdown",
      "source": "## Loading models\n\nSKlearn model weights are currently saved in 2 pickle files, we can load them easily with a couple lines of code as shown below:",
      "metadata": {
        "tags": [],
        "cell_id": "00003-192664e3-4bb7-4ad8-86eb-4ad4b9e77f93",
        "deepnote_cell_type": "markdown"
      }
    },
    {
      "cell_type": "code",
      "metadata": {
        "tags": [],
        "cell_id": "00003-7f7ea5f8-6ed8-45b9-96a9-d05bf170ba58",
        "deepnote_to_be_reexecuted": true,
        "source_hash": "cd78be39",
        "execution_millis": 452,
        "deepnote_cell_type": "code"
      },
      "source": "# with open(\"supervised_end_model_weights.pkl\", 'rb') as file:\n#     supervised_model = pickle.load(file)\n# with open(\"weak_end_model_weights.pkl\", 'rb') as file:\n#     weak_model = pickle.load(file)",
      "execution_count": null,
      "outputs": []
    },
    {
      "cell_type": "markdown",
      "source": "## Question prediction\n\nWe have 10 example questions, which we will predict labels for using both the weakly supervised model and the fully supervised model.\n\nThe labels correspond to 0 for Lower Order (), and 1 for High Order ().\n\nFirst, however, we have to make sure we extract the correct features from the example questions.\n\nwill demonstrate (capabilities or weak supervision?)",
      "metadata": {
        "tags": [],
        "cell_id": "00005-debbdd61-3296-4020-9f5f-cd49745cd109",
        "deepnote_cell_type": "markdown"
      }
    },
    {
      "cell_type": "markdown",
      "source": "",
      "metadata": {
        "tags": [],
        "cell_id": "00010-195b2724-4f44-42bb-8793-d1534712b544",
        "deepnote_cell_type": "markdown"
      }
    },
    {
      "cell_type": "code",
      "metadata": {
        "tags": [],
        "cell_id": "00010-2f87f631-1454-4d7a-8755-1bfa80a72ff7",
        "deepnote_to_be_reexecuted": false,
        "source_hash": "e1d4e408",
        "execution_millis": 14,
        "execution_start": 1618855436002,
        "deepnote_cell_type": "code"
      },
      "source": "q_idx_list = [3064, 2293, 444, #(weak wrong) \n764, 62, 3454, 1929, 1244, 1830, #(both wrong),\n 3074]",
      "execution_count": null,
      "outputs": []
    },
    {
      "cell_type": "markdown",
      "source": "Explain why the intensity of a sound is proportional to its amplitude squared.",
      "metadata": {
        "tags": [],
        "cell_id": "00012-009e5b94-100f-4154-b3d7-6ae29bb7836c",
        "deepnote_cell_type": "markdown"
      }
    },
    {
      "cell_type": "markdown",
      "source": "Define product rule in your own words.",
      "metadata": {
        "tags": [],
        "cell_id": "00013-31bda5f4-85bb-4777-bbde-7f272ebf3880",
        "deepnote_cell_type": "markdown"
      }
    },
    {
      "cell_type": "code",
      "metadata": {
        "tags": [],
        "cell_id": "00014-b13445bc-ab8f-45f1-aebb-789b13e21d10",
        "deepnote_to_be_reexecuted": true,
        "source_hash": "b623e53d",
        "deepnote_cell_type": "code"
      },
      "source": "",
      "execution_count": null,
      "outputs": []
    },
    {
      "cell_type": "markdown",
      "source": "Which of the following statements about epigenetic regulation is false?\n",
      "metadata": {
        "tags": [],
        "cell_id": "00014-7fc105e1-3e5f-4958-8271-95e2238793c2",
        "deepnote_cell_type": "markdown"
      }
    },
    {
      "cell_type": "code",
      "metadata": {
        "tags": [],
        "cell_id": "00016-63952282-6572-4db7-a285-676ac75cab4c",
        "deepnote_to_be_reexecuted": true,
        "source_hash": "b623e53d",
        "deepnote_cell_type": "code"
      },
      "source": "",
      "execution_count": null,
      "outputs": []
    },
    {
      "cell_type": "markdown",
      "source": "The conservation movement of the early twentieth century echoed the progressive movement’s emphasis on\n",
      "metadata": {
        "tags": [],
        "cell_id": "00015-208f6c22-6e3a-49ce-ad37-96b27d659dc2",
        "deepnote_cell_type": "markdown"
      }
    },
    {
      "cell_type": "code",
      "metadata": {
        "tags": [],
        "cell_id": "00018-1a984766-d851-4dbd-8a99-a93ea7dbff61",
        "deepnote_to_be_reexecuted": true,
        "source_hash": "b623e53d",
        "deepnote_cell_type": "code"
      },
      "source": "",
      "execution_count": null,
      "outputs": []
    },
    {
      "cell_type": "markdown",
      "source": "Sometimes it is necessary to take a PET scan very soon after ingesting a radiopharmaceutical. Why is that the case?\n",
      "metadata": {
        "tags": [],
        "cell_id": "00016-c1f238c0-3698-4bb5-8092-87f9433c5624",
        "deepnote_cell_type": "markdown"
      }
    },
    {
      "cell_type": "code",
      "metadata": {
        "tags": [],
        "cell_id": "00020-e114105a-27b6-455d-b666-a88218a9ec2f",
        "deepnote_to_be_reexecuted": true,
        "source_hash": "b623e53d",
        "deepnote_cell_type": "code"
      },
      "source": "",
      "execution_count": null,
      "outputs": []
    },
    {
      "cell_type": "markdown",
      "source": "What kind of heat transfer requires no medium?\n",
      "metadata": {
        "tags": [],
        "cell_id": "00018-974f2b7a-fb34-4423-94aa-b1dcc142e6a6",
        "deepnote_cell_type": "markdown"
      }
    },
    {
      "cell_type": "code",
      "metadata": {
        "tags": [],
        "cell_id": "00022-e176e1b8-d522-443a-a65b-906098d95b35",
        "deepnote_to_be_reexecuted": true,
        "source_hash": "b623e53d",
        "deepnote_cell_type": "code"
      },
      "source": "",
      "execution_count": null,
      "outputs": []
    },
    {
      "cell_type": "markdown",
      "source": "How did the British use the institution of slavery as a tool against the colonists in the Revolutionary War?",
      "metadata": {
        "tags": [],
        "cell_id": "00019-32aabf60-7abe-4766-96ff-6f131c634f1f",
        "deepnote_cell_type": "markdown"
      }
    },
    {
      "cell_type": "code",
      "metadata": {
        "tags": [],
        "cell_id": "00024-717aca27-6049-44de-be42-e517ef295696",
        "deepnote_to_be_reexecuted": true,
        "source_hash": "b623e53d",
        "deepnote_cell_type": "code"
      },
      "source": "",
      "execution_count": null,
      "outputs": []
    },
    {
      "cell_type": "markdown",
      "source": "Define apomixis in your own words.\n",
      "metadata": {
        "tags": [],
        "cell_id": "00020-107e3b10-e291-427f-b34c-dc6b8c948332",
        "deepnote_cell_type": "markdown"
      }
    },
    {
      "cell_type": "code",
      "metadata": {
        "tags": [],
        "cell_id": "00026-528bc08e-c854-40d0-b0ca-081267690ec9",
        "deepnote_to_be_reexecuted": true,
        "source_hash": "b623e53d",
        "deepnote_cell_type": "code"
      },
      "source": "",
      "execution_count": null,
      "outputs": []
    },
    {
      "cell_type": "markdown",
      "source": "Biodiversity decreases when moving away from the _________.\n",
      "metadata": {
        "tags": [],
        "cell_id": "00021-353e758d-dcbd-447b-9041-c75e14d2fd6b",
        "deepnote_cell_type": "markdown"
      }
    },
    {
      "cell_type": "code",
      "metadata": {
        "tags": [],
        "cell_id": "00028-dabf7b8d-6a10-4b94-9fca-40bfed008044",
        "deepnote_to_be_reexecuted": true,
        "source_hash": "b623e53d",
        "deepnote_cell_type": "code"
      },
      "source": "",
      "execution_count": null,
      "outputs": []
    },
    {
      "cell_type": "markdown",
      "source": "Historians looking to study the role of African rulers and merchants in the Atlantic slave trade would likely consult..",
      "metadata": {
        "tags": [],
        "cell_id": "00022-d9657d04-da82-4fd0-b532-6293e4ed22ae",
        "deepnote_cell_type": "markdown"
      }
    },
    {
      "cell_type": "markdown",
      "source": "",
      "metadata": {
        "tags": [],
        "cell_id": "00017-3fbef626-17a7-434f-a6e9-06e3e0cbf17e",
        "deepnote_cell_type": "markdown"
      }
    },
    {
      "cell_type": "code",
      "metadata": {
        "tags": [],
        "cell_id": "00012-9dfe956d-c7e9-4082-82af-e1bd1b897270",
        "deepnote_to_be_reexecuted": true,
        "source_hash": "5716986a",
        "execution_millis": 864,
        "deepnote_cell_type": "code"
      },
      "source": "X_test.iloc[q_idx_list[1]]",
      "execution_count": null,
      "outputs": [
        {
          "output_type": "execute_result",
          "execution_count": 55,
          "data": {
            "text/plain": "'Define product rule in your own words.'"
          },
          "metadata": {}
        }
      ]
    },
    {
      "cell_type": "code",
      "metadata": {
        "tags": [],
        "cell_id": "00013-25b6d0bb-bbec-40df-9d7f-c5e90d358b82",
        "deepnote_to_be_reexecuted": true,
        "source_hash": "b38720a2",
        "execution_millis": 30,
        "deepnote_cell_type": "code"
      },
      "source": "X_test.iloc[q_idx_list[2]]",
      "execution_count": null,
      "outputs": [
        {
          "output_type": "execute_result",
          "execution_count": 56,
          "data": {
            "text/plain": "'Which of the following statements about epigenetic regulation is false?'"
          },
          "metadata": {}
        }
      ]
    },
    {
      "cell_type": "code",
      "metadata": {
        "tags": [],
        "cell_id": "00014-60b63799-8099-42f5-9198-41e7b6032dc6",
        "deepnote_to_be_reexecuted": true,
        "source_hash": "b76479c0",
        "execution_millis": 17,
        "deepnote_cell_type": "code"
      },
      "source": "X_test.iloc[q_idx_list[3]]",
      "execution_count": null,
      "outputs": [
        {
          "output_type": "execute_result",
          "execution_count": 68,
          "data": {
            "text/plain": "'The conservation movement of the early twentieth century echoed the progressive movement’s emphasis on'"
          },
          "metadata": {}
        }
      ]
    },
    {
      "cell_type": "code",
      "metadata": {
        "tags": [],
        "cell_id": "00014-7ff7f471-37d2-4007-8950-2c5a2f75675e",
        "deepnote_to_be_reexecuted": true,
        "source_hash": "985dab22",
        "execution_millis": 39,
        "deepnote_cell_type": "code"
      },
      "source": "X_test.iloc[q_idx_list[4]]",
      "execution_count": null,
      "outputs": [
        {
          "output_type": "execute_result",
          "execution_count": 65,
          "data": {
            "text/plain": "'Sometimes it is necessary to take a PET scan very soon after ingesting a radiopharmaceutical. Why is that the case?'"
          },
          "metadata": {}
        }
      ]
    },
    {
      "cell_type": "code",
      "metadata": {
        "tags": [],
        "cell_id": "00014-cfecfed2-ff1e-461a-9258-a0e229357a91",
        "deepnote_to_be_reexecuted": true,
        "source_hash": "1bd7a414",
        "execution_millis": 21,
        "deepnote_cell_type": "code"
      },
      "source": "X_test.iloc[q_idx_list[5]]",
      "execution_count": null,
      "outputs": [
        {
          "output_type": "execute_result",
          "execution_count": 77,
          "data": {
            "text/plain": "'What kind of heat transfer requires no medium?'"
          },
          "metadata": {}
        }
      ]
    },
    {
      "cell_type": "code",
      "metadata": {
        "tags": [],
        "cell_id": "00014-8353c3a3-0cab-400a-b926-9f253706d5b7",
        "deepnote_to_be_reexecuted": true,
        "source_hash": "32ef1c84",
        "execution_millis": 30,
        "deepnote_cell_type": "code"
      },
      "source": "X_test.iloc[q_idx_list[6]]",
      "execution_count": null,
      "outputs": [
        {
          "output_type": "execute_result",
          "execution_count": 60,
          "data": {
            "text/plain": "'How did the British use the institution of slavery as a tool against the colonists in the Revolutionary War?'"
          },
          "metadata": {}
        }
      ]
    },
    {
      "cell_type": "code",
      "metadata": {
        "tags": [],
        "cell_id": "00014-60c07ed9-30b3-461b-8dd9-260c64eda01e",
        "deepnote_to_be_reexecuted": true,
        "source_hash": "112895bd",
        "execution_millis": 29,
        "deepnote_cell_type": "code"
      },
      "source": "X_test.iloc[q_idx_list[7]]",
      "execution_count": null,
      "outputs": [
        {
          "output_type": "execute_result",
          "execution_count": 61,
          "data": {
            "text/plain": "'Define apomixis in your own words.'"
          },
          "metadata": {}
        }
      ]
    },
    {
      "cell_type": "code",
      "metadata": {
        "tags": [],
        "cell_id": "00014-d6874cc9-5f7b-4c21-b40e-b2bf2ec0e183",
        "deepnote_to_be_reexecuted": true,
        "source_hash": "b283482b",
        "execution_millis": 28,
        "deepnote_cell_type": "code"
      },
      "source": "X_test.iloc[q_idx_list[8]]",
      "execution_count": null,
      "outputs": [
        {
          "output_type": "execute_result",
          "execution_count": 62,
          "data": {
            "text/plain": "'Biodiversity decreases when moving away from the _________.'"
          },
          "metadata": {}
        }
      ]
    },
    {
      "cell_type": "code",
      "metadata": {
        "tags": [],
        "cell_id": "00013-1963388d-24e5-4e19-b2c8-4e7944504b29",
        "deepnote_to_be_reexecuted": true,
        "source_hash": "99fb9fb2",
        "execution_millis": 39,
        "deepnote_cell_type": "code"
      },
      "source": "X_test.iloc[q_idx_list[9]]",
      "execution_count": null,
      "outputs": [
        {
          "output_type": "execute_result",
          "execution_count": 63,
          "data": {
            "text/plain": "'Historians looking to study the role of African rulers and merchants in the Atlantic slave trade would likely consult'"
          },
          "metadata": {}
        }
      ]
    },
    {
      "cell_type": "markdown",
      "source": "ok let's just find questions and look up the text in the test dataframes.. so, now: we search in the X_test dataframe, then match indices in the other ones..",
      "metadata": {
        "tags": [],
        "cell_id": "00011-0c04413c-55dd-4eca-ae19-e39158e169c3",
        "deepnote_cell_type": "markdown"
      }
    },
    {
      "cell_type": "code",
      "metadata": {
        "tags": [],
        "cell_id": "00006-0776cea3-2328-4394-bed1-ff34187f76b1",
        "deepnote_to_be_reexecuted": false,
        "source_hash": "4b94cdce",
        "execution_millis": 29033,
        "execution_start": 1618855076541,
        "deepnote_cell_type": "code"
      },
      "source": "df = pd.read_csv('questions_utf8.csv')\n\n\nmapping = {1:1, 2:2, 3:2, 4:2, 5:2, 6:2}\npreprocess_df = blooms_preprocess_utils.preprocess_dataset(df, mapping);\n\nreadability = []\nfor i in range(len(preprocess_df)):\n    readability.append(textstat.textstat.flesch_reading_ease(preprocess_df.iloc[i].text))\n",
      "execution_count": null,
      "outputs": [
        {
          "name": "stderr",
          "text": "/work/edu_research/big_dataset/blooms_preprocess_utils.py:117: SettingWithCopyWarning: \nA value is trying to be set on a copy of a slice from a DataFrame.\nTry using .loc[row_indexer,col_indexer] = value instead\n\nSee the caveats in the documentation: https://pandas.pydata.org/pandas-docs/stable/user_guide/indexing.html#returning-a-view-versus-a-copy\n  'k12phys': 'physics', 'inbook-yes__book:': 'not_sure'}\n/work/edu_research/big_dataset/blooms_preprocess_utils.py:96: SettingWithCopyWarning: \nA value is trying to be set on a copy of a slice from a DataFrame.\nTry using .loc[row_indexer,col_indexer] = value instead\n\nSee the caveats in the documentation: https://pandas.pydata.org/pandas-docs/stable/user_guide/indexing.html#returning-a-view-versus-a-copy\n  df['blooms'] = df['blooms'].map(class_mapping)\n/work/edu_research/big_dataset/blooms_preprocess_utils.py:99: SettingWithCopyWarning: \nA value is trying to be set on a copy of a slice from a DataFrame.\nTry using .loc[row_indexer,col_indexer] = value instead\n\nSee the caveats in the documentation: https://pandas.pydata.org/pandas-docs/stable/user_guide/indexing.html#returning-a-view-versus-a-copy\n  df['adj_label'] = df['blooms'] - 1\n/work/edu_research/big_dataset/blooms_preprocess_utils.py:72: SettingWithCopyWarning: \nA value is trying to be set on a copy of a slice from a DataFrame.\nTry using .loc[row_indexer,col_indexer] = value instead\n\nSee the caveats in the documentation: https://pandas.pydata.org/pandas-docs/stable/user_guide/indexing.html#returning-a-view-versus-a-copy\n  df['glossary_terms'] = df.apply(lambda x: num_glossary_terms(x, files, subject_dict), axis = 1)\n/work/edu_research/big_dataset/blooms_preprocess_utils.py:85: SettingWithCopyWarning: \nA value is trying to be set on a copy of a slice from a DataFrame.\nTry using .loc[row_indexer,col_indexer] = value instead\n\nSee the caveats in the documentation: https://pandas.pydata.org/pandas-docs/stable/user_guide/indexing.html#returning-a-view-versus-a-copy\n  df['text'] = df.question.apply(lambda x: clean_question(x))\n/work/edu_research/big_dataset/blooms_preprocess_utils.py:87: SettingWithCopyWarning: \nA value is trying to be set on a copy of a slice from a DataFrame.\nTry using .loc[row_indexer,col_indexer] = value instead\n\nSee the caveats in the documentation: https://pandas.pydata.org/pandas-docs/stable/user_guide/indexing.html#returning-a-view-versus-a-copy\n  df['text_length'] = df.text.str.len()\n/work/edu_research/big_dataset/blooms_preprocess_utils.py:89: SettingWithCopyWarning: \nA value is trying to be set on a copy of a slice from a DataFrame.\nTry using .loc[row_indexer,col_indexer] = value instead\n\nSee the caveats in the documentation: https://pandas.pydata.org/pandas-docs/stable/user_guide/indexing.html#returning-a-view-versus-a-copy\n  df['num_words'] = df['text'].apply(lambda x: len(x.split()))\n",
          "output_type": "stream"
        }
      ]
    },
    {
      "cell_type": "code",
      "metadata": {
        "tags": [],
        "cell_id": "00017-2d05005e-a14a-4f3e-9a34-7896ecfd15e0",
        "deepnote_to_be_reexecuted": false,
        "source_hash": "a61219ac",
        "execution_millis": 46,
        "execution_start": 1618856340859,
        "deepnote_cell_type": "code"
      },
      "source": "t_df = X_test.reset_index(drop = True)\nt_df.sample(8)",
      "execution_count": null,
      "outputs": [
        {
          "output_type": "execute_result",
          "execution_count": 38,
          "data": {
            "text/plain": "2058    What is 32.0^{\\circ}\\text{C} in degrees Fahren...\n3240    Mammals, reptiles, and birds have the followin...\n2827    \\nAfter traveling along a path, a toy car’s fi...\n2923    The slogan “Fifty-four Forty or Fight” best de...\n778     Which group would most likely oppose a U.S. de...\n2950                       Define lens in your own words.\n1881    \\nThe levels of carbon dioxide levels increase...\n2159    Joints are classified based on the material co...\nName: text, dtype: object"
          },
          "metadata": {}
        }
      ]
    },
    {
      "cell_type": "code",
      "metadata": {
        "tags": [],
        "cell_id": "00018-59b74788-a6f1-49a8-b2eb-6600906a87c8",
        "deepnote_to_be_reexecuted": false,
        "source_hash": "b401b24c",
        "execution_millis": 104,
        "execution_start": 1618856642985,
        "deepnote_cell_type": "code"
      },
      "source": "q_idx = 2159\n\ndisplay(preprocess_df[preprocess_df.text == X_test.iloc[q_idx]])\n\nprint(preprocess_df[preprocess_df.text == X_test.iloc[q_idx]]['type'])\n\n\nsupervised_label = lin_svm_supervised.predict(x_test[q_idx, :])\nweak_label = lin_svm_weak.predict(x_test_weak[q_idx, :])\n\nprint(\"blooms label:\",\n preprocess_df[preprocess_df.text == X_test.iloc[q_idx]]['adj_label'].values)\nprint(\"supervised model predicts:\", supervised_label)\nprint(\"weak model predicts:\", weak_label)\nprint(X_test.iloc[q_idx])\n\n",
      "execution_count": null,
      "outputs": [
        {
          "data": {
            "application/vnd.deepnote.dataframe.v2+json": {
              "row_count": 1,
              "column_count": 15,
              "columns": [
                {
                  "name": "uid",
                  "dtype": "object",
                  "stats": {
                    "unique_count": 1,
                    "nan_count": 0,
                    "categories": [
                      {
                        "name": "9899@6",
                        "count": 1
                      }
                    ]
                  }
                },
                {
                  "name": "uuid",
                  "dtype": "object",
                  "stats": {
                    "unique_count": 1,
                    "nan_count": 0,
                    "categories": [
                      {
                        "name": "e4069425-9d47-498c-9496-d4a4fe465eb0",
                        "count": 1
                      }
                    ]
                  }
                },
                {
                  "name": "group_uuid",
                  "dtype": "object",
                  "stats": {
                    "unique_count": 1,
                    "nan_count": 0,
                    "categories": [
                      {
                        "name": "10262471-b1e0-418b-a6a5-10a04e0bcb89",
                        "count": 1
                      }
                    ]
                  }
                },
                {
                  "name": "published_at",
                  "dtype": "object",
                  "stats": {
                    "unique_count": 1,
                    "nan_count": 0,
                    "categories": [
                      {
                        "name": "2019-07-01T15:09:57.888Z",
                        "count": 1
                      }
                    ]
                  }
                },
                {
                  "name": "cnxmod",
                  "dtype": "object",
                  "stats": {
                    "unique_count": 1,
                    "nan_count": 0,
                    "categories": [
                      {
                        "name": "f3a5c924-6b1b-4d1b-b506-906b00da0be5__d31fc440-5c61-44f2-9d4a-30172c1c1e80__5abd8e4e-7b52-4bdf-8444-f42ee617b8c1__1f93d8aa-fe0b-48ad-bfb0-4ad2c488a68b",
                        "count": 1
                      }
                    ]
                  }
                },
                {
                  "name": "question",
                  "dtype": "object",
                  "stats": {
                    "unique_count": 1,
                    "nan_count": 0,
                    "categories": [
                      {
                        "name": "Joints are classified based on the material composing the joint and the presence or absence of a cavity in the joint. Which of the following are the weakest joints?",
                        "count": 1
                      }
                    ]
                  }
                },
                {
                  "name": "blooms",
                  "dtype": "int64",
                  "stats": {
                    "unique_count": 1,
                    "nan_count": 0,
                    "min": "2",
                    "max": "2",
                    "histogram": [
                      {
                        "bin_start": 1.5,
                        "bin_end": 1.6,
                        "count": 0
                      },
                      {
                        "bin_start": 1.6,
                        "bin_end": 1.7,
                        "count": 0
                      },
                      {
                        "bin_start": 1.7,
                        "bin_end": 1.8,
                        "count": 0
                      },
                      {
                        "bin_start": 1.8,
                        "bin_end": 1.9,
                        "count": 0
                      },
                      {
                        "bin_start": 1.9,
                        "bin_end": 2,
                        "count": 0
                      },
                      {
                        "bin_start": 2,
                        "bin_end": 2.1,
                        "count": 1
                      },
                      {
                        "bin_start": 2.1,
                        "bin_end": 2.2,
                        "count": 0
                      },
                      {
                        "bin_start": 2.2,
                        "bin_end": 2.3,
                        "count": 0
                      },
                      {
                        "bin_start": 2.3,
                        "bin_end": 2.4,
                        "count": 0
                      },
                      {
                        "bin_start": 2.4,
                        "bin_end": 2.5,
                        "count": 0
                      }
                    ]
                  }
                },
                {
                  "name": "book",
                  "dtype": "object",
                  "stats": {
                    "unique_count": 1,
                    "nan_count": 0,
                    "categories": [
                      {
                        "name": "bio__apbio",
                        "count": 1
                      }
                    ]
                  }
                },
                {
                  "name": "type",
                  "dtype": "object",
                  "stats": {
                    "unique_count": 1,
                    "nan_count": 0,
                    "categories": [
                      {
                        "name": "__conceptual-or-recall",
                        "count": 1
                      }
                    ]
                  }
                },
                {
                  "name": "subject",
                  "dtype": "object",
                  "stats": {
                    "unique_count": 1,
                    "nan_count": 0,
                    "categories": [
                      {
                        "name": "biology",
                        "count": 1
                      }
                    ]
                  }
                },
                {
                  "name": "adj_label",
                  "dtype": "int64",
                  "stats": {
                    "unique_count": 1,
                    "nan_count": 0,
                    "min": "1",
                    "max": "1",
                    "histogram": [
                      {
                        "bin_start": 0.5,
                        "bin_end": 0.6,
                        "count": 0
                      },
                      {
                        "bin_start": 0.6,
                        "bin_end": 0.7,
                        "count": 0
                      },
                      {
                        "bin_start": 0.7,
                        "bin_end": 0.8,
                        "count": 0
                      },
                      {
                        "bin_start": 0.8,
                        "bin_end": 0.9,
                        "count": 0
                      },
                      {
                        "bin_start": 0.9,
                        "bin_end": 1,
                        "count": 0
                      },
                      {
                        "bin_start": 1,
                        "bin_end": 1.1,
                        "count": 1
                      },
                      {
                        "bin_start": 1.1,
                        "bin_end": 1.2000000000000002,
                        "count": 0
                      },
                      {
                        "bin_start": 1.2000000000000002,
                        "bin_end": 1.3,
                        "count": 0
                      },
                      {
                        "bin_start": 1.3,
                        "bin_end": 1.4,
                        "count": 0
                      },
                      {
                        "bin_start": 1.4,
                        "bin_end": 1.5,
                        "count": 0
                      }
                    ]
                  }
                },
                {
                  "name": "glossary_terms",
                  "dtype": "float64",
                  "stats": {
                    "unique_count": 1,
                    "nan_count": 0,
                    "min": "1.0",
                    "max": "1.0",
                    "histogram": [
                      {
                        "bin_start": 0.5,
                        "bin_end": 0.6,
                        "count": 0
                      },
                      {
                        "bin_start": 0.6,
                        "bin_end": 0.7,
                        "count": 0
                      },
                      {
                        "bin_start": 0.7,
                        "bin_end": 0.8,
                        "count": 0
                      },
                      {
                        "bin_start": 0.8,
                        "bin_end": 0.9,
                        "count": 0
                      },
                      {
                        "bin_start": 0.9,
                        "bin_end": 1,
                        "count": 0
                      },
                      {
                        "bin_start": 1,
                        "bin_end": 1.1,
                        "count": 1
                      },
                      {
                        "bin_start": 1.1,
                        "bin_end": 1.2000000000000002,
                        "count": 0
                      },
                      {
                        "bin_start": 1.2000000000000002,
                        "bin_end": 1.3,
                        "count": 0
                      },
                      {
                        "bin_start": 1.3,
                        "bin_end": 1.4,
                        "count": 0
                      },
                      {
                        "bin_start": 1.4,
                        "bin_end": 1.5,
                        "count": 0
                      }
                    ]
                  }
                },
                {
                  "name": "text",
                  "dtype": "object",
                  "stats": {
                    "unique_count": 1,
                    "nan_count": 0,
                    "categories": [
                      {
                        "name": "Joints are classified based on the material composing the joint and the presence or absence of a cavity in the joint. Which of the following are the weakest joints?",
                        "count": 1
                      }
                    ]
                  }
                },
                {
                  "name": "text_length",
                  "dtype": "int64",
                  "stats": {
                    "unique_count": 1,
                    "nan_count": 0,
                    "min": "164",
                    "max": "164",
                    "histogram": [
                      {
                        "bin_start": 163.5,
                        "bin_end": 163.6,
                        "count": 0
                      },
                      {
                        "bin_start": 163.6,
                        "bin_end": 163.7,
                        "count": 0
                      },
                      {
                        "bin_start": 163.7,
                        "bin_end": 163.8,
                        "count": 0
                      },
                      {
                        "bin_start": 163.8,
                        "bin_end": 163.9,
                        "count": 0
                      },
                      {
                        "bin_start": 163.9,
                        "bin_end": 164,
                        "count": 0
                      },
                      {
                        "bin_start": 164,
                        "bin_end": 164.1,
                        "count": 1
                      },
                      {
                        "bin_start": 164.1,
                        "bin_end": 164.2,
                        "count": 0
                      },
                      {
                        "bin_start": 164.2,
                        "bin_end": 164.3,
                        "count": 0
                      },
                      {
                        "bin_start": 164.3,
                        "bin_end": 164.4,
                        "count": 0
                      },
                      {
                        "bin_start": 164.4,
                        "bin_end": 164.5,
                        "count": 0
                      }
                    ]
                  }
                },
                {
                  "name": "num_words",
                  "dtype": "int64",
                  "stats": {
                    "unique_count": 1,
                    "nan_count": 0,
                    "min": "29",
                    "max": "29",
                    "histogram": [
                      {
                        "bin_start": 28.5,
                        "bin_end": 28.6,
                        "count": 0
                      },
                      {
                        "bin_start": 28.6,
                        "bin_end": 28.7,
                        "count": 0
                      },
                      {
                        "bin_start": 28.7,
                        "bin_end": 28.8,
                        "count": 0
                      },
                      {
                        "bin_start": 28.8,
                        "bin_end": 28.9,
                        "count": 0
                      },
                      {
                        "bin_start": 28.9,
                        "bin_end": 29,
                        "count": 0
                      },
                      {
                        "bin_start": 29,
                        "bin_end": 29.1,
                        "count": 1
                      },
                      {
                        "bin_start": 29.1,
                        "bin_end": 29.2,
                        "count": 0
                      },
                      {
                        "bin_start": 29.2,
                        "bin_end": 29.3,
                        "count": 0
                      },
                      {
                        "bin_start": 29.3,
                        "bin_end": 29.4,
                        "count": 0
                      },
                      {
                        "bin_start": 29.4,
                        "bin_end": 29.5,
                        "count": 0
                      }
                    ]
                  }
                },
                {
                  "name": "_deepnote_index_column",
                  "dtype": "int64"
                }
              ],
              "rows_top": [
                {
                  "uid": "9899@6",
                  "uuid": "e4069425-9d47-498c-9496-d4a4fe465eb0",
                  "group_uuid": "10262471-b1e0-418b-a6a5-10a04e0bcb89",
                  "published_at": "2019-07-01T15:09:57.888Z",
                  "cnxmod": "f3a5c924-6b1b-4d1b-b506-906b00da0be5__d31fc440-5c61-44f2-9d4a-30172c1c1e80__5abd8e4e-7b52-4bdf-8444-f42ee617b8c1__1f93d8aa-fe0b-48ad-bfb0-4ad2c488a68b",
                  "question": "Joints are classified based on the material composing the joint and the presence or absence of a cavity in the joint. Which of the following are the weakest joints?",
                  "blooms": 2,
                  "book": "bio__apbio",
                  "type": "__conceptual-or-recall",
                  "subject": "biology",
                  "adj_label": 1,
                  "glossary_terms": 1,
                  "text": "Joints are classified based on the material composing the joint and the presence or absence of a cavity in the joint. Which of the following are the weakest joints?",
                  "text_length": 164,
                  "num_words": 29,
                  "_deepnote_index_column": 13547
                }
              ],
              "rows_bottom": null
            },
            "text/plain": "          uid                                  uuid  \\\n13547  9899@6  e4069425-9d47-498c-9496-d4a4fe465eb0   \n\n                                 group_uuid              published_at  \\\n13547  10262471-b1e0-418b-a6a5-10a04e0bcb89  2019-07-01T15:09:57.888Z   \n\n                                                  cnxmod  \\\n13547  f3a5c924-6b1b-4d1b-b506-906b00da0be5__d31fc440...   \n\n                                                question  blooms        book  \\\n13547  Joints are classified based on the material co...       2  bio__apbio   \n\n                         type  subject  adj_label  glossary_terms  \\\n13547  __conceptual-or-recall  biology          1             1.0   \n\n                                                    text  text_length  \\\n13547  Joints are classified based on the material co...          164   \n\n       num_words  \n13547         29  ",
            "text/html": "<div>\n<style scoped>\n    .dataframe tbody tr th:only-of-type {\n        vertical-align: middle;\n    }\n\n    .dataframe tbody tr th {\n        vertical-align: top;\n    }\n\n    .dataframe thead th {\n        text-align: right;\n    }\n</style>\n<table border=\"1\" class=\"dataframe\">\n  <thead>\n    <tr style=\"text-align: right;\">\n      <th></th>\n      <th>uid</th>\n      <th>uuid</th>\n      <th>group_uuid</th>\n      <th>published_at</th>\n      <th>cnxmod</th>\n      <th>question</th>\n      <th>blooms</th>\n      <th>book</th>\n      <th>type</th>\n      <th>subject</th>\n      <th>adj_label</th>\n      <th>glossary_terms</th>\n      <th>text</th>\n      <th>text_length</th>\n      <th>num_words</th>\n    </tr>\n  </thead>\n  <tbody>\n    <tr>\n      <th>13547</th>\n      <td>9899@6</td>\n      <td>e4069425-9d47-498c-9496-d4a4fe465eb0</td>\n      <td>10262471-b1e0-418b-a6a5-10a04e0bcb89</td>\n      <td>2019-07-01T15:09:57.888Z</td>\n      <td>f3a5c924-6b1b-4d1b-b506-906b00da0be5__d31fc440...</td>\n      <td>Joints are classified based on the material co...</td>\n      <td>2</td>\n      <td>bio__apbio</td>\n      <td>__conceptual-or-recall</td>\n      <td>biology</td>\n      <td>1</td>\n      <td>1.0</td>\n      <td>Joints are classified based on the material co...</td>\n      <td>164</td>\n      <td>29</td>\n    </tr>\n  </tbody>\n</table>\n</div>"
          },
          "metadata": {},
          "output_type": "display_data"
        },
        {
          "name": "stdout",
          "text": "13547    __conceptual-or-recall\nName: type, dtype: object\nblooms label: [1]\nsupervised model predicts: [1]\nweak model predicts: [1]\nJoints are classified based on the material composing the joint and the presence or absence of a cavity in the joint. Which of the following are the weakest joints?\n",
          "output_type": "stream"
        }
      ]
    },
    {
      "cell_type": "code",
      "metadata": {
        "tags": [],
        "cell_id": "00044-5861d2c9-d65e-4420-bf45-6676f0c29f8a",
        "deepnote_to_be_reexecuted": false,
        "source_hash": "7bdd6197",
        "execution_millis": 132,
        "execution_start": 1618856652133,
        "deepnote_cell_type": "code"
      },
      "source": "q_idx_list = [1867, 2293, 444, #(weak wrong)\n764, 1013, 2159, 1929, 1244, 1830, #(both wrong),\n 3074]\n\n# q_idx_list = [1867, 2293, 444, \n# # 764, 1013, 1929, 1244, 1830, #(both wrong),\n# #  3074]\n\nuid_list = []\nfor i in range(len(q_idx_list)):\n    uid = preprocess_df[preprocess_df.text == X_test.iloc[q_idx_list[i]]].uid\n    text = preprocess_df[preprocess_df.text == X_test.iloc[q_idx_list[i]]].text\n    type = preprocess_df[preprocess_df.text == X_test.iloc[q_idx_list[i]]]['type']\n\n    print(i)\n    print(q_idx_list[i])\n    print(text.values[0])\n    print(type.values)\n\n    print(df[df.uid == uid.values[0]].blooms)\n    print(df[df.uid == uid.values[0]].)\n    print('-'*50)\n\n    uid_list.append([uid.values[0], text.values[0]])\n\n",
      "execution_count": null,
      "outputs": [
        {
          "name": "stdout",
          "text": "0\n1867\nWhat is the principle function or role of triglycerides in animals?\n['__conceptual-or-recall']\n6609    2\nName: blooms, dtype: int64\n--------------------------------------------------\n1\n2293\nDefine product rule in your own words.\n['recall']\n4465    1\nName: blooms, dtype: int64\n--------------------------------------------------\n2\n444\nWhich of the following statements about epigenetic regulation is false?\n['concept-coach__conceptual-or-recall'\n 'concept-coach__conceptual-or-recall' '__conceptual-or-recall']\n12370    3\nName: blooms, dtype: int64\n--------------------------------------------------\n3\n764\nThe conservation movement of the early twentieth century echoed the progressive movement’s emphasis on\n['conceptual']\n17089    4\nName: blooms, dtype: int64\n--------------------------------------------------\n4\n1013\nWhy is carbon considered a macronutrient?\n['concept-coach__conceptual-or-recall']\n9249    2\nName: blooms, dtype: int64\n--------------------------------------------------\n5\n2159\nJoints are classified based on the material composing the joint and the presence or absence of a cavity in the joint. Which of the following are the weakest joints?\n['__conceptual-or-recall']\n13547    3\nName: blooms, dtype: int64\n--------------------------------------------------\n6\n1929\nHow did the British use the institution of slavery as a tool against the colonists in the Revolutionary War?\n['recall__ap-test-prep']\n10983    2\nName: blooms, dtype: int64\n--------------------------------------------------\n7\n1244\nDefine apomixis in your own words.\n['recall']\n5363    1\nName: blooms, dtype: int64\n--------------------------------------------------\n8\n1830\nBiodiversity decreases when moving away from the _________.\n['concept-coach__conceptual-or-recall']\n2558    1\nName: blooms, dtype: int64\n--------------------------------------------------\n9\n3074\nHistorians looking to study the role of African rulers and merchants in the Atlantic slave trade would likely consult\n['conceptual__ap-test-prep']\n14574    3\nName: blooms, dtype: int64\n--------------------------------------------------\n",
          "output_type": "stream"
        }
      ]
    },
    {
      "cell_type": "code",
      "metadata": {
        "tags": [],
        "cell_id": "00018-7bd51909-678b-48c3-b379-85b9b056e6a1",
        "deepnote_to_be_reexecuted": true,
        "source_hash": "ed7aca81",
        "execution_millis": 8798,
        "deepnote_cell_type": "code"
      },
      "source": "supervised_labels= lin_svm_supervised.predict(x_test)\n\nweak_labels = lin_svm_weak.predict(x_test_weak)\n\nsupervised_labels.shape\n",
      "execution_count": null,
      "outputs": [
        {
          "output_type": "execute_result",
          "execution_count": 143,
          "data": {
            "text/plain": "(3544,)"
          },
          "metadata": {}
        }
      ]
    },
    {
      "cell_type": "code",
      "metadata": {
        "tags": [],
        "cell_id": "00004-233f04ad-9570-4d0f-8593-fdc26726557c",
        "deepnote_to_be_reexecuted": true,
        "source_hash": "2f5f59f8",
        "deepnote_cell_type": "code"
      },
      "source": "## predict on questions\nsupervised_labels = supervised_model.predict()\n\nweak_labels = weak_model.predict()",
      "execution_count": null,
      "outputs": []
    },
    {
      "cell_type": "markdown",
      "source": "<a style='text-decoration:none;line-height:16px;display:flex;color:#5B5B62;padding:10px;justify-content:end;' href='https://deepnote.com?utm_source=created-in-deepnote-cell&projectId=bcbe6184-b36a-4097-968c-a2ee6ebad722' target=\"_blank\">\n<img alt='Created in deepnote.com' style='display:inline;max-height:16px;margin:0px;margin-right:7.5px;' src='data:image/svg+xml;base64,PD94bWwgdmVyc2lvbj0iMS4wIiBlbmNvZGluZz0iVVRGLTgiPz4KPHN2ZyB3aWR0aD0iODBweCIgaGVpZ2h0PSI4MHB4IiB2aWV3Qm94PSIwIDAgODAgODAiIHZlcnNpb249IjEuMSIgeG1sbnM9Imh0dHA6Ly93d3cudzMub3JnLzIwMDAvc3ZnIiB4bWxuczp4bGluaz0iaHR0cDovL3d3dy53My5vcmcvMTk5OS94bGluayI+CiAgICA8IS0tIEdlbmVyYXRvcjogU2tldGNoIDU0LjEgKDc2NDkwKSAtIGh0dHBzOi8vc2tldGNoYXBwLmNvbSAtLT4KICAgIDx0aXRsZT5Hcm91cCAzPC90aXRsZT4KICAgIDxkZXNjPkNyZWF0ZWQgd2l0aCBTa2V0Y2guPC9kZXNjPgogICAgPGcgaWQ9IkxhbmRpbmciIHN0cm9rZT0ibm9uZSIgc3Ryb2tlLXdpZHRoPSIxIiBmaWxsPSJub25lIiBmaWxsLXJ1bGU9ImV2ZW5vZGQiPgogICAgICAgIDxnIGlkPSJBcnRib2FyZCIgdHJhbnNmb3JtPSJ0cmFuc2xhdGUoLTEyMzUuMDAwMDAwLCAtNzkuMDAwMDAwKSI+CiAgICAgICAgICAgIDxnIGlkPSJHcm91cC0zIiB0cmFuc2Zvcm09InRyYW5zbGF0ZSgxMjM1LjAwMDAwMCwgNzkuMDAwMDAwKSI+CiAgICAgICAgICAgICAgICA8cG9seWdvbiBpZD0iUGF0aC0yMCIgZmlsbD0iIzAyNjVCNCIgcG9pbnRzPSIyLjM3NjIzNzYyIDgwIDM4LjA0NzY2NjcgODAgNTcuODIxNzgyMiA3My44MDU3NTkyIDU3LjgyMTc4MjIgMzIuNzU5MjczOSAzOS4xNDAyMjc4IDMxLjY4MzE2ODMiPjwvcG9seWdvbj4KICAgICAgICAgICAgICAgIDxwYXRoIGQ9Ik0zNS4wMDc3MTgsODAgQzQyLjkwNjIwMDcsNzYuNDU0OTM1OCA0Ny41NjQ5MTY3LDcxLjU0MjI2NzEgNDguOTgzODY2LDY1LjI2MTk5MzkgQzUxLjExMjI4OTksNTUuODQxNTg0MiA0MS42NzcxNzk1LDQ5LjIxMjIyODQgMjUuNjIzOTg0Niw0OS4yMTIyMjg0IEMyNS40ODQ5Mjg5LDQ5LjEyNjg0NDggMjkuODI2MTI5Niw0My4yODM4MjQ4IDM4LjY0NzU4NjksMzEuNjgzMTY4MyBMNzIuODcxMjg3MSwzMi41NTQ0MjUgTDY1LjI4MDk3Myw2Ny42NzYzNDIxIEw1MS4xMTIyODk5LDc3LjM3NjE0NCBMMzUuMDA3NzE4LDgwIFoiIGlkPSJQYXRoLTIyIiBmaWxsPSIjMDAyODY4Ij48L3BhdGg+CiAgICAgICAgICAgICAgICA8cGF0aCBkPSJNMCwzNy43MzA0NDA1IEwyNy4xMTQ1MzcsMC4yNTcxMTE0MzYgQzYyLjM3MTUxMjMsLTEuOTkwNzE3MDEgODAsMTAuNTAwMzkyNyA4MCwzNy43MzA0NDA1IEM4MCw2NC45NjA0ODgyIDY0Ljc3NjUwMzgsNzkuMDUwMzQxNCAzNC4zMjk1MTEzLDgwIEM0Ny4wNTUzNDg5LDc3LjU2NzA4MDggNTMuNDE4MjY3Nyw3MC4zMTM2MTAzIDUzLjQxODI2NzcsNTguMjM5NTg4NSBDNTMuNDE4MjY3Nyw0MC4xMjg1NTU3IDM2LjMwMzk1NDQsMzcuNzMwNDQwNSAyNS4yMjc0MTcsMzcuNzMwNDQwNSBDMTcuODQzMDU4NiwzNy43MzA0NDA1IDkuNDMzOTE5NjYsMzcuNzMwNDQwNSAwLDM3LjczMDQ0MDUgWiIgaWQ9IlBhdGgtMTkiIGZpbGw9IiMzNzkzRUYiPjwvcGF0aD4KICAgICAgICAgICAgPC9nPgogICAgICAgIDwvZz4KICAgIDwvZz4KPC9zdmc+' > </img>\nCreated in <span style='font-weight:600;margin-left:4px;'>Deepnote</span></a>",
      "metadata": {
        "tags": [],
        "created_in_deepnote_cell": true,
        "deepnote_cell_type": "markdown"
      }
    }
  ],
  "nbformat": 4,
  "nbformat_minor": 2,
  "metadata": {
    "orig_nbformat": 2,
    "deepnote": {
      "is_reactive": false
    },
    "deepnote_notebook_id": "9be39c70-27f3-4912-9cc4-095ec81679c1",
    "deepnote_execution_queue": []
  }
}