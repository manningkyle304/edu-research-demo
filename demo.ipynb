{
  "cells": [
    {
      "cell_type": "code",
      "metadata": {
        "tags": [],
        "cell_id": "00000-5b4421a5-afae-42c3-afe3-ef79f4844295",
        "deepnote_to_be_reexecuted": false,
        "source_hash": "3b9b253f",
        "execution_millis": 3430,
        "execution_start": 1619149974912,
        "deepnote_cell_type": "code"
      },
      "source": "import pandas as pd\nimport numpy as np\n\nimport os\n\nfrom bs4 import BeautifulSoup\nimport blooms_preprocess_utils\nimport textstat\n\nfrom snorkel.labeling import labeling_function\nfrom snorkel.labeling.model import LabelModel\n\n\nfrom sklearn.model_selection import train_test_split\nimport pickle",
      "execution_count": null,
      "outputs": []
    },
    {
      "cell_type": "code",
      "metadata": {
        "tags": [],
        "cell_id": "00003-555fbf17-acfe-4b8a-a7f6-64beba8b33a9",
        "deepnote_to_be_reexecuted": true,
        "source_hash": "e66aafd3",
        "execution_millis": 859,
        "deepnote_cell_type": "code"
      },
      "source": "with open(\"./supervised_model_weights.pkl\", 'wb') as file:\n\n    pickle.dump(lin_svm_supervised, file)\n\nwith open(\"./weak_model_weights.pkl\", 'wb') as file:\n    pickle.dump(lin_svm_weak, file)",
      "execution_count": null,
      "outputs": []
    },
    {
      "cell_type": "code",
      "metadata": {
        "tags": [],
        "cell_id": "00006-b7583f43-3011-43d7-b62c-9a99dc3fd096",
        "deepnote_to_be_reexecuted": true,
        "source_hash": "183fc48",
        "execution_millis": 833,
        "deepnote_cell_type": "code"
      },
      "source": "demo_qs = pd.read_csv('question_info_2.csv')\n\ndemo_test_weak = v_weak.transform(demo_qs.question_text.values.astype('U'))\n\ndemo_test_supervised = v.transform(demo_qs.question_text.values.astype('U'))",
      "execution_count": null,
      "outputs": []
    },
    {
      "cell_type": "markdown",
      "source": "## Loading things in\n\nFirst, loading the weak and supervised trained model weights. The specific model is a linear SVM. It's easy to load models with a few lines of code, as shown below.\n\nThen, the weak test and supervised test data are loaded. Note the differing dimensionalities among the datasets; this is a result of the preprocessing method. TF-IDF is used, and in order to avoid leakage a separate TFIDF vectorizer is used for each of the respective datasets (weak and fully supervised).",
      "metadata": {
        "tags": [],
        "cell_id": "00006-94034739-50e8-4beb-a997-209b30845d23",
        "deepnote_cell_type": "markdown"
      }
    },
    {
      "cell_type": "code",
      "metadata": {
        "tags": [],
        "cell_id": "00008-d7d1dcbe-7ef3-4b60-82b7-28feb159f7be",
        "deepnote_to_be_reexecuted": true,
        "source_hash": "898476f9",
        "execution_millis": 1,
        "deepnote_cell_type": "code"
      },
      "source": "with open('weak_model_weights.pkl', 'rb') as f:\n    weak_model = pickle.load(f)\n\nwith open('supervised_model_weights.pkl', 'rb') as f:\n    supervised_model = pickle.load(f)",
      "execution_count": null,
      "outputs": []
    },
    {
      "cell_type": "code",
      "metadata": {
        "tags": [],
        "cell_id": "00007-506deede-4f81-4382-b712-61c8044c0018",
        "deepnote_to_be_reexecuted": true,
        "source_hash": "19af3f50",
        "execution_millis": 7,
        "deepnote_cell_type": "code"
      },
      "source": "with open('./demo_Xtest_weak.pkl', 'rb') as handle:\n    test_weak = pickle.load(handle)\n\nwith open('./demo_Xtest_supervised.pkl', 'rb') as handle:\n    test_supervised = pickle.load(handle)",
      "execution_count": null,
      "outputs": []
    },
    {
      "cell_type": "code",
      "metadata": {
        "tags": [],
        "cell_id": "00009-16a63947-e246-431a-8079-f3f0ca172432",
        "deepnote_to_be_reexecuted": true,
        "source_hash": "74b41e92",
        "execution_millis": 0,
        "deepnote_cell_type": "code"
      },
      "source": "print(test_weak.shape)\ntest_supervised.shape",
      "execution_count": null,
      "outputs": [
        {
          "name": "stdout",
          "text": "(10, 14099)\n",
          "output_type": "stream"
        },
        {
          "output_type": "execute_result",
          "execution_count": 24,
          "data": {
            "text/plain": "(10, 14829)"
          },
          "metadata": {}
        }
      ]
    },
    {
      "cell_type": "code",
      "metadata": {
        "tags": [],
        "cell_id": "00009-dbd24cd0-2416-4c8e-aa40-b4da235f3b9f",
        "deepnote_to_be_reexecuted": true,
        "source_hash": "9cab1086",
        "execution_millis": 42,
        "deepnote_cell_type": "code"
      },
      "source": "display(weak_model.predict(test_weak))\nsupervised_model.predict(test_supervised)",
      "execution_count": null,
      "outputs": [
        {
          "data": {
            "text/plain": "array([1, 0, 0, 1, 1, 1, 1, 0, 1, 1])"
          },
          "metadata": {},
          "output_type": "display_data"
        },
        {
          "output_type": "execute_result",
          "execution_count": 25,
          "data": {
            "text/plain": "array([1, 0, 1, 1, 1, 1, 1, 0, 1, 1])"
          },
          "metadata": {}
        }
      ]
    },
    {
      "cell_type": "markdown",
      "source": "## Label prediction\n\nWe have 10 example questions, which we will predict labels for using both the weakly supervised model and the fully supervised model.\n\nA simple explanation for differences between the models: the weak model and supervised model are trained on **different datasets** - the weak model uses labels (\"y_train\" data) generated from the weak supervision pipeline. In contrast, the supervised models uses ground truth labels.\n\nPredidcted labels correspond to 0 for Lower Order (), and 1 for High Order ().",
      "metadata": {
        "tags": [],
        "cell_id": "00005-debbdd61-3296-4020-9f5f-cd49745cd109",
        "deepnote_cell_type": "markdown"
      }
    },
    {
      "cell_type": "code",
      "metadata": {
        "tags": [],
        "cell_id": "00010-2f87f631-1454-4d7a-8755-1bfa80a72ff7",
        "deepnote_to_be_reexecuted": true,
        "source_hash": "e1d4e408",
        "execution_millis": 3,
        "deepnote_cell_type": "code"
      },
      "source": "q_idx_list = [3064, 2293, 444, #(weak wrong) \n764, 62, 3454, 1929, 1244, 1830, #(both wrong),\n 3074]",
      "execution_count": null,
      "outputs": []
    },
    {
      "cell_type": "code",
      "metadata": {
        "tags": [],
        "cell_id": "00012-949d1237-8b83-428c-a9b8-e28b675c1871",
        "deepnote_to_be_reexecuted": true,
        "source_hash": "49bd5272",
        "execution_millis": 16,
        "deepnote_cell_type": "code"
      },
      "source": "demo_qs = pd.read_csv(\"./question_info_2.csv\", index_col =0)",
      "execution_count": null,
      "outputs": []
    },
    {
      "cell_type": "code",
      "metadata": {
        "tags": [],
        "cell_id": "00012-f25de30c-c608-47e1-9ce2-9eb5b1546ace",
        "deepnote_to_be_reexecuted": true,
        "source_hash": "330d8b80",
        "execution_millis": 26,
        "deepnote_cell_type": "code"
      },
      "source": "demo_qs.head()",
      "execution_count": null,
      "outputs": [
        {
          "output_type": "execute_result",
          "execution_count": 20,
          "data": {
            "application/vnd.deepnote.dataframe.v2+json": {
              "row_count": 5,
              "column_count": 2,
              "columns": [
                {
                  "name": "uid",
                  "dtype": "object",
                  "stats": {
                    "unique_count": 5,
                    "nan_count": 0,
                    "categories": [
                      {
                        "name": "194@5",
                        "count": 1
                      },
                      {
                        "name": "13477@6",
                        "count": 1
                      },
                      {
                        "name": "3 others",
                        "count": 3
                      }
                    ]
                  }
                },
                {
                  "name": "question_text",
                  "dtype": "object",
                  "stats": {
                    "unique_count": 5,
                    "nan_count": 0,
                    "categories": [
                      {
                        "name": "What is the principle function or role of triglycerides in animals?",
                        "count": 1
                      },
                      {
                        "name": "Define product rule in your own words.",
                        "count": 1
                      },
                      {
                        "name": "3 others",
                        "count": 3
                      }
                    ]
                  }
                },
                {
                  "name": "_deepnote_index_column",
                  "dtype": "int64"
                }
              ],
              "rows_top": [
                {
                  "uid": "194@5",
                  "question_text": "What is the principle function or role of triglycerides in animals?",
                  "_deepnote_index_column": 0
                },
                {
                  "uid": "13477@6",
                  "question_text": "Define product rule in your own words.",
                  "_deepnote_index_column": 1
                },
                {
                  "uid": "4605@4",
                  "question_text": "Which of the following statements about epigenetic regulation is false?",
                  "_deepnote_index_column": 2
                },
                {
                  "uid": "18625@3",
                  "question_text": "The conservation movement of the early twentieth century echoed the progressive movement’s emphasis on",
                  "_deepnote_index_column": 3
                },
                {
                  "uid": "8049@3",
                  "question_text": "Why is carbon considered a macronutrient?",
                  "_deepnote_index_column": 4
                }
              ],
              "rows_bottom": null
            },
            "text/plain": "       uid                                      question_text\n0    194@5  What is the principle function or role of trig...\n1  13477@6             Define product rule in your own words.\n2   4605@4  Which of the following statements about epigen...\n3  18625@3  The conservation movement of the early twentie...\n4   8049@3          Why is carbon considered a macronutrient?",
            "text/html": "<div>\n<style scoped>\n    .dataframe tbody tr th:only-of-type {\n        vertical-align: middle;\n    }\n\n    .dataframe tbody tr th {\n        vertical-align: top;\n    }\n\n    .dataframe thead th {\n        text-align: right;\n    }\n</style>\n<table border=\"1\" class=\"dataframe\">\n  <thead>\n    <tr style=\"text-align: right;\">\n      <th></th>\n      <th>uid</th>\n      <th>question_text</th>\n    </tr>\n  </thead>\n  <tbody>\n    <tr>\n      <th>0</th>\n      <td>194@5</td>\n      <td>What is the principle function or role of trig...</td>\n    </tr>\n    <tr>\n      <th>1</th>\n      <td>13477@6</td>\n      <td>Define product rule in your own words.</td>\n    </tr>\n    <tr>\n      <th>2</th>\n      <td>4605@4</td>\n      <td>Which of the following statements about epigen...</td>\n    </tr>\n    <tr>\n      <th>3</th>\n      <td>18625@3</td>\n      <td>The conservation movement of the early twentie...</td>\n    </tr>\n    <tr>\n      <th>4</th>\n      <td>8049@3</td>\n      <td>Why is carbon considered a macronutrient?</td>\n    </tr>\n  </tbody>\n</table>\n</div>"
          },
          "metadata": {}
        }
      ]
    },
    {
      "cell_type": "code",
      "metadata": {
        "tags": [],
        "cell_id": "00014-cf895a1f-418d-4738-90ff-25fdacf63d6b",
        "deepnote_to_be_reexecuted": true,
        "source_hash": "2a2cf96a",
        "execution_millis": 18,
        "deepnote_cell_type": "code"
      },
      "source": "demo_qs.question_text[2]",
      "execution_count": null,
      "outputs": [
        {
          "output_type": "execute_result",
          "execution_count": 29,
          "data": {
            "text/plain": "'Which of the following statements about epigenetic regulation is false?'"
          },
          "metadata": {}
        }
      ]
    },
    {
      "cell_type": "code",
      "metadata": {
        "tags": [],
        "cell_id": "00031-7b391626-5623-4c25-ac06-b57ae7c43c73",
        "deepnote_to_be_reexecuted": true,
        "source_hash": "5ba32f60",
        "execution_millis": 112,
        "deepnote_cell_type": "code"
      },
      "source": "for i in range(demo_qs.shape[0]):\n    print(\"Question Text:\")\n    print(demo_qs.question_text[i])\n\n    print(\"Supervised Model predicts:\")\n    print(supervised_model.predict(test_supervised[i, :]))\n\n    print(\"Weak Model predicts:\")\n    print(weak_model.predict(test_weak[i, :]))\n\n    print('-'*50)",
      "execution_count": null,
      "outputs": [
        {
          "name": "stdout",
          "text": "Question Text:\nWhat is the principle function or role of triglycerides in animals?\nSupervised Model predicts:\n[1]\nWeak Model predicts:\n[1]\n--------------------------------------------------\nQuestion Text:\nDefine product rule in your own words.\nSupervised Model predicts:\n[0]\nWeak Model predicts:\n[0]\n--------------------------------------------------\nQuestion Text:\nWhich of the following statements about epigenetic regulation is false?\nSupervised Model predicts:\n[1]\nWeak Model predicts:\n[0]\n--------------------------------------------------\nQuestion Text:\nThe conservation movement of the early twentieth century echoed the progressive movement’s emphasis on\nSupervised Model predicts:\n[1]\nWeak Model predicts:\n[1]\n--------------------------------------------------\nQuestion Text:\nWhy is carbon considered a macronutrient?\nSupervised Model predicts:\n[1]\nWeak Model predicts:\n[1]\n--------------------------------------------------\nQuestion Text:\nJoints are classified based on the material composing the joint and the presence or absence of a cavity in the joint. Which of the following are the weakest joints?\nSupervised Model predicts:\n[1]\nWeak Model predicts:\n[1]\n--------------------------------------------------\nQuestion Text:\nHow did the British use the institution of slavery as a tool against the colonists in the Revolutionary War?\nSupervised Model predicts:\n[1]\nWeak Model predicts:\n[1]\n--------------------------------------------------\nQuestion Text:\nDefine apomixis in your own words.\nSupervised Model predicts:\n[0]\nWeak Model predicts:\n[0]\n--------------------------------------------------\nQuestion Text:\nBiodiversity decreases when moving away from the _________.\nSupervised Model predicts:\n[1]\nWeak Model predicts:\n[1]\n--------------------------------------------------\nQuestion Text:\nHistorians looking to study the role of African rulers and merchants in the Atlantic slave trade would likely consult\nSupervised Model predicts:\n[1]\nWeak Model predicts:\n[1]\n--------------------------------------------------\n",
          "output_type": "stream"
        }
      ]
    },
    {
      "cell_type": "code",
      "metadata": {
        "tags": [],
        "cell_id": "00006-0776cea3-2328-4394-bed1-ff34187f76b1",
        "deepnote_to_be_reexecuted": true,
        "source_hash": "197e852",
        "execution_millis": 1,
        "deepnote_cell_type": "code"
      },
      "source": "# df = pd.read_csv('questions_utf8.csv')\n\n\n# mapping = {1:1, 2:2, 3:2, 4:2, 5:2, 6:2}\n# preprocess_df = blooms_preprocess_utils.preprocess_dataset(df, mapping);\n\n# readability = []\n# for i in range(len(preprocess_df)):\n#     readability.append(textstat.textstat.flesch_reading_ease(preprocess_df.iloc[i].text))\n",
      "execution_count": null,
      "outputs": []
    },
    {
      "cell_type": "code",
      "metadata": {
        "tags": [],
        "cell_id": "00017-2d05005e-a14a-4f3e-9a34-7896ecfd15e0",
        "deepnote_to_be_reexecuted": true,
        "source_hash": "a61219ac",
        "execution_millis": 46,
        "deepnote_cell_type": "code"
      },
      "source": "t_df = X_test.reset_index(drop = True)\nt_df.sample(8)",
      "execution_count": null,
      "outputs": [
        {
          "output_type": "execute_result",
          "execution_count": 38,
          "data": {
            "text/plain": "2058    What is 32.0^{\\circ}\\text{C} in degrees Fahren...\n3240    Mammals, reptiles, and birds have the followin...\n2827    \\nAfter traveling along a path, a toy car’s fi...\n2923    The slogan “Fifty-four Forty or Fight” best de...\n778     Which group would most likely oppose a U.S. de...\n2950                       Define lens in your own words.\n1881    \\nThe levels of carbon dioxide levels increase...\n2159    Joints are classified based on the material co...\nName: text, dtype: object"
          },
          "metadata": {}
        }
      ]
    },
    {
      "cell_type": "code",
      "metadata": {
        "tags": [],
        "cell_id": "00018-7bd51909-678b-48c3-b379-85b9b056e6a1",
        "deepnote_to_be_reexecuted": true,
        "source_hash": "ed7aca81",
        "execution_millis": 8798,
        "deepnote_cell_type": "code"
      },
      "source": "# supervised_labels= lin_svm_supervised.predict(x_test)\n\n# weak_labels = lin_svm_weak.predict(x_test_weak)\n\n# supervised_labels.shape\n",
      "execution_count": null,
      "outputs": [
        {
          "output_type": "execute_result",
          "execution_count": 143,
          "data": {
            "text/plain": "(3544,)"
          },
          "metadata": {}
        }
      ]
    },
    {
      "cell_type": "code",
      "metadata": {
        "tags": [],
        "cell_id": "00022-ca03b262-a697-4442-b843-cfa7813507eb",
        "deepnote_to_be_reexecuted": true,
        "source_hash": "7232715e",
        "deepnote_cell_type": "code"
      },
      "source": "# X_train_weak = pd.read_csv('../edu_research/big_dataset/vectorizer_data/X_train_weak.csv', index_col=0)['text']\n# y_train_weak = pd.read_csv('../edu_research/big_dataset/vectorizer_data/y_train_weak.csv', index_col=0)\n\n# X_train = pd.read_csv('../edu_research/big_dataset/vectorizer_data/X_train.csv', index_col=0)['text']\n# y_train = pd.read_csv('../edu_research/big_dataset/vectorizer_data/y_train.csv', index_col=0)\n\n# X_test = pd.read_csv('../edu_research/big_dataset/vectorizer_data/X_test.csv', index_col=0)['text']\n# y_test = pd.read_csv('../edu_research/big_dataset/vectorizer_data/y_test.csv', index_col=0)\n\n\n# v_weak = TfidfVectorizer()\n\n# x_train_weak = v_weak.fit_transform(X_train_weak.values.astype('U'))\n# x_test_weak = v_weak.transform(X_test.values.astype('U'))\n\n# v = TfidfVectorizer()\n\n# x_train = v.fit_transform(X_train.values.astype('U'))\n# x_test = v.transform(X_test.values.astype('U'))\n\n\n# lin_svm_supervised = SVC(kernel=\"linear\", C=0.025)\n# lin_svm_supervised.fit(x_train, y_train);\n\n# #### weak supervision portion\n# lin_svm_weak = SVC(kernel=\"linear\", C=0.025)\n# lin_svm_weak.fit(x_train_weak, y_train_weak);\n\n",
      "execution_count": null,
      "outputs": []
    },
    {
      "cell_type": "code",
      "metadata": {
        "tags": [],
        "cell_id": "00023-47248bbb-d7c7-47a6-b971-91e568e11239",
        "deepnote_to_be_reexecuted": true,
        "source_hash": "2223d24e",
        "deepnote_cell_type": "code"
      },
      "source": "# q_idx_list = [3064, 2293, 444, #(weak wrong) \n# 764, 62, 3454, 1929, 1244, 1830, #(both wrong),\n#  3074]",
      "execution_count": null,
      "outputs": []
    },
    {
      "cell_type": "code",
      "metadata": {
        "tags": [],
        "cell_id": "00023-fb945671-a836-4001-8d52-17fb3ed422ee",
        "deepnote_to_be_reexecuted": true,
        "source_hash": "2e650e24",
        "deepnote_cell_type": "code"
      },
      "source": "# display(preprocess_df[preprocess_df.text == X_test.iloc[q_idx]])\n\n# print(preprocess_df[preprocess_df.text == X_test.iloc[q_idx]]['type'])\n\n\n# supervised_label = lin_svm_supervised.predict(x_test[q_idx, :])\n# weak_label = lin_svm_weak.predict(x_test_weak[q_idx, :])\n\n# print(\"blooms label:\",\n#  preprocess_df[preprocess_df.text == X_test.iloc[q_idx]]['adj_label'].values)\n# print(\"supervised model predicts:\", supervised_label)\n# print(\"weak model predicts:\", weak_label)\n# print(X_test.iloc[q_idx])\n\n",
      "execution_count": null,
      "outputs": []
    },
    {
      "cell_type": "code",
      "metadata": {
        "tags": [],
        "cell_id": "00024-c7cc06b0-4633-43d3-8045-41ca0649c7ad",
        "deepnote_to_be_reexecuted": true,
        "source_hash": "7117dc26",
        "execution_millis": 0,
        "deepnote_cell_type": "code"
      },
      "source": "# q_idx_list = [1867, 2293, 444, #(weak wrong)\n# 764, 1013, 2159, 1929, 1244, 1830, #(both wrong),\n#  3074]\n\n\n# uid_list = []\n# for i in range(len(q_idx_list)):\n#     uid = preprocess_df[preprocess_df.text == X_test.iloc[q_idx_list[i]]].uid\n#     text = preprocess_df[preprocess_df.text == X_test.iloc[q_idx_list[i]]].text\n#     type = preprocess_df[preprocess_df.text == X_test.iloc[q_idx_list[i]]]['type']\n\n#     print(i)\n#     print(q_idx_list[i])\n#     print(text.values[0])\n#     print(type.values)\n\n#     print(df[df.uid == uid.values[0]].blooms)\n#     print(df[df.uid == uid.values[0]].)\n#     print('-'*50)\n\n#     uid_list.append([uid.values[0], text.values[0]])\n\n",
      "execution_count": null,
      "outputs": []
    },
    {
      "cell_type": "markdown",
      "source": "<a style='text-decoration:none;line-height:16px;display:flex;color:#5B5B62;padding:10px;justify-content:end;' href='https://deepnote.com?utm_source=created-in-deepnote-cell&projectId=bcbe6184-b36a-4097-968c-a2ee6ebad722' target=\"_blank\">\n<img alt='Created in deepnote.com' style='display:inline;max-height:16px;margin:0px;margin-right:7.5px;' src='data:image/svg+xml;base64,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' > </img>\nCreated in <span style='font-weight:600;margin-left:4px;'>Deepnote</span></a>",
      "metadata": {
        "tags": [],
        "created_in_deepnote_cell": true,
        "deepnote_cell_type": "markdown"
      }
    }
  ],
  "nbformat": 4,
  "nbformat_minor": 2,
  "metadata": {
    "orig_nbformat": 2,
    "deepnote": {
      "is_reactive": false
    },
    "deepnote_notebook_id": "9be39c70-27f3-4912-9cc4-095ec81679c1",
    "deepnote_execution_queue": []
  }
}