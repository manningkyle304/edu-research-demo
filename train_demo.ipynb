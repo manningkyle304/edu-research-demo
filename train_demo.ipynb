{
  "cells": [
    {
      "cell_type": "markdown",
      "source": "# load some packages",
      "metadata": {
        "tags": [],
        "cell_id": "00001-89f75249-db60-4a21-bb11-8bc66f6bcc52",
        "deepnote_cell_type": "markdown"
      }
    },
    {
      "cell_type": "code",
      "metadata": {
        "tags": [],
        "cell_id": "00000-9670c331-fd5f-4195-a12e-ce80d7f69eae",
        "deepnote_to_be_reexecuted": false,
        "source_hash": null,
        "execution_millis": 843,
        "execution_start": 1618619357853,
        "output_cleared": true,
        "deepnote_cell_type": "code"
      },
      "source": "import pandas as pd\nimport numpy as np\nfrom matplotlib import pyplot as plt\n\n#import utils \n#reloads modules automagically, changes\n#to code update without having to close the notebook\n%load_ext autoreload\n%autoreload 2\n\nimport os\nfrom bs4 import BeautifulSoup\nfrom snorkel.labeling import labeling_function\n\nimport blooms_preprocess_utils\nimport textstat\n\nfrom sklearn.svm import SVC\nfrom sklearn.feature_extraction.text import TfidfVectorizer\n\nfrom sklearn.model_selection import train_test_split\nimport pickle\nimport seaborn as sns\n\n# set seed for reproducibility\nseed = 2021",
      "execution_count": null,
      "outputs": []
    },
    {
      "cell_type": "markdown",
      "source": "#### Set desired mapping here\n\nThe **mapping** specifies which classification task we care about.\n\nFor example, below, the mapping has Bloom's Level One (Knowledge) in a class and all other\nlevels in a different class. \n\n**Note that when you change the mapping, labeling function parameters need to be changed to reflect the structure you've chosen.**\n\nIn this work, we consider a simple binary bloom classification where bloom 1 is one class and bloom 2 - 6 is the other class.",
      "metadata": {
        "tags": [],
        "cell_id": "00005-c3f4d6de-6127-4636-927e-858e76ed63fe",
        "deepnote_cell_type": "markdown"
      }
    },
    {
      "cell_type": "code",
      "metadata": {
        "tags": [],
        "cell_id": "00004-8e947d7d-f166-49ce-baa0-a3f2a06c003e",
        "deepnote_to_be_reexecuted": false,
        "source_hash": "a8cc65f2",
        "execution_start": 1618619091593,
        "execution_millis": 17,
        "deepnote_cell_type": "code"
      },
      "source": "ABSTAIN = -1\nKNOWLEDGE = 0\nCOMPREHENSION = 1\nAPPLICATION = 1\nANALYSIS = 1\nSYNTHESIS = 1\nEVALUATION = 1\n\nmapping = {1:1, 2:2, 3:2, 4:2, 5:2, 6:2}",
      "execution_count": null,
      "outputs": []
    },
    {
      "cell_type": "markdown",
      "source": "# load and preprocess dataset\nthe dataset that we use in this paper is not publicly available. \n\nyour dataset should ideally be a dataframe with at least a column with the question texts\n\nTo preprocess your own dataset, we refer to the utility file `blooms_preprocess_utils` for detailed preprocessing steps that we performed. Those steps are specific to our dataset, but some utilities might be useful for preprocessing your own dataset.",
      "metadata": {
        "tags": [],
        "cell_id": "00002-5ab9a2cd-bd69-4873-9ffa-22aa7d4ff85f",
        "deepnote_cell_type": "markdown"
      }
    },
    {
      "cell_type": "code",
      "metadata": {
        "tags": [],
        "cell_id": "00007-537c5246-9b7a-45f4-b7c9-ca8833013f5a",
        "deepnote_to_be_reexecuted": false,
        "source_hash": null,
        "execution_millis": 25787,
        "execution_start": 1618619095481,
        "output_cleared": true,
        "deepnote_cell_type": "code"
      },
      "source": "df = pd.read_csv('questions_utf8.csv')  # PATH_TO_YOUR_DATASET\npreprocess_df = blooms_preprocess_utils.preprocess_dataset(df, mapping)",
      "execution_count": null,
      "outputs": []
    },
    {
      "cell_type": "markdown",
      "source": "#### compute the flesch readability scores of each question\nthis will be used later for one of our labeling functions",
      "metadata": {
        "tags": [],
        "cell_id": "00004-38109b72-5739-40ec-94fe-ef6a16d7b597",
        "deepnote_cell_type": "markdown"
      }
    },
    {
      "cell_type": "code",
      "metadata": {
        "tags": [],
        "cell_id": "00005-1e4c9e54-448d-40d4-b455-c50f33687b83",
        "deepnote_to_be_reexecuted": false,
        "source_hash": null,
        "execution_start": 1618619155802,
        "execution_millis": 8263,
        "output_cleared": true,
        "deepnote_cell_type": "code"
      },
      "source": "readability = []\nfor i in range(len(preprocess_df)):\n    readability.append(textstat.textstat.flesch_reading_ease(preprocess_df.iloc[i].text))\npreprocess_df['flesch_score'] = readability",
      "execution_count": null,
      "outputs": []
    },
    {
      "cell_type": "markdown",
      "source": "# construct labeling functions\nhere we construct a few labeling functions, one of the key building blocks of our weakly supervised learning framework",
      "metadata": {
        "tags": [],
        "cell_id": "00003-54f9c52b-e78b-4952-b814-080281bb6e2e",
        "deepnote_cell_type": "markdown"
      }
    },
    {
      "cell_type": "code",
      "metadata": {
        "tags": [],
        "cell_id": "00006-9e62c3e3-28be-4a8e-a6ec-94efed0d93f0",
        "deepnote_to_be_reexecuted": false,
        "source_hash": "828f2eb9",
        "execution_start": 1618619167066,
        "execution_millis": 18,
        "deepnote_cell_type": "code"
      },
      "source": "from snorkel.labeling import labeling_function\nfrom snorkel.labeling import LabelingFunction",
      "execution_count": null,
      "outputs": []
    },
    {
      "cell_type": "markdown",
      "source": "#### labeling function based on question length (number of words)",
      "metadata": {
        "tags": [],
        "cell_id": "00009-85f0c568-64ca-44ea-831e-fc55a9d18bbc",
        "deepnote_cell_type": "markdown"
      }
    },
    {
      "cell_type": "code",
      "metadata": {
        "tags": [],
        "cell_id": "00008-51a77d1e-74bd-475e-9a91-7281b21cef9b",
        "deepnote_to_be_reexecuted": false,
        "source_hash": "b71965ff",
        "execution_start": 1618619169496,
        "execution_millis": 17,
        "deepnote_cell_type": "code"
      },
      "source": "@labeling_function()\ndef short(x):\n    return KNOWLEDGE if len(x.text) < 75 else ABSTAIN",
      "execution_count": null,
      "outputs": []
    },
    {
      "cell_type": "markdown",
      "source": "#### labeling function based on whether the word `why` appears in the question",
      "metadata": {
        "tags": [],
        "cell_id": "00010-875c09dc-34e2-4602-8cf3-c8f57cb0f959",
        "deepnote_cell_type": "markdown"
      }
    },
    {
      "cell_type": "code",
      "metadata": {
        "tags": [],
        "cell_id": "00011-862f4403-b428-43b9-b410-0ddfbd6ae2b0",
        "deepnote_to_be_reexecuted": false,
        "source_hash": "b733da89",
        "execution_start": 1618619170862,
        "execution_millis": 20,
        "deepnote_cell_type": "code"
      },
      "source": "@labeling_function()\ndef why(x):\n    return EVALUATION if \"why?\" in x.text.lower() else ABSTAIN",
      "execution_count": null,
      "outputs": []
    },
    {
      "cell_type": "markdown",
      "source": "#### labeling function based on whether the question contains any glossary terms",
      "metadata": {
        "tags": [],
        "cell_id": "00012-a607720a-5f52-4a36-b32e-1f43d508ae70",
        "deepnote_cell_type": "markdown"
      }
    },
    {
      "cell_type": "code",
      "metadata": {
        "tags": [],
        "cell_id": "00013-02f6f8fc-bd0e-42b6-a7d7-dfc2b7d4d75c",
        "deepnote_to_be_reexecuted": false,
        "source_hash": "26884ba",
        "execution_start": 1618619171515,
        "execution_millis": 21,
        "deepnote_cell_type": "code"
      },
      "source": "def glossary_terms(x, low_bin, high_bin, label):\n    if (x.glossary_terms >= low_bin) & (x.glossary_terms < high_bin):\n        return label\n    return ABSTAIN\n\ndef make_glossary_lf(low_bin, high_bin, label, name):\n    return LabelingFunction(\n        name = name + '_glossary',\n        f=glossary_terms,\n        resources = dict(low_bin=low_bin, high_bin=high_bin, label = label),\n    )\n\nglossary_high = make_glossary_lf(3, float('inf'), COMPREHENSION, 'comprehension')",
      "execution_count": null,
      "outputs": []
    },
    {
      "cell_type": "markdown",
      "source": "#### labeling function based on whether the question contains any bloom-specific keywords",
      "metadata": {
        "tags": [],
        "cell_id": "00014-f5fbc81c-2df8-4feb-a536-0871fe00b5c0",
        "deepnote_cell_type": "markdown"
      }
    },
    {
      "cell_type": "code",
      "metadata": {
        "tags": [],
        "cell_id": "00015-0e83f4c5-88cb-4cfc-b83c-b01c03b209c2",
        "deepnote_to_be_reexecuted": false,
        "source_hash": "16aae39",
        "execution_start": 1618619173152,
        "execution_millis": 20,
        "deepnote_cell_type": "code"
      },
      "source": "# first we define a list of keywords specific to each bloom level\nknowledge_list = ['define','identify','describe','label','list','name','state',\n                  'match','recognize','select','examine','locate','memorize',\n                  'quote','recall','reproduce','tabulate','tell','copy','discover','duplicate',\n                  'enumerate','listen','observe','omit','read','recite','record','repeat','retell','visualize']\ncomprehension_list = ['explain','describe','interpret','paraphrase','summarize','classify','compare',\n                      'differentiate','discuss','distinguish','extend','predict','associate','contrast',\n                      'convert','demonstrate','estimate','express','identify','indicate','infer','relate',\n                      'restate','select','translate','ask','cite','discover','generalize','group','illustrate','judge',\n                      'observe','order','report','represent','research','review','rewrite','show','trace']\napplication_list = ['solve','apply','illustrate','modify','use','calculate','change','choose',\n                    'demonstrate','discover','experiment','relate','show','sketch','complete',\n                    'construct','dramatize','interpret','manipulate','paint','prepare','teach',\n                    'act','collect','compute','explain','list','operate','practice','simulate',\n                    'transfer','write']\nanalysis_list = ['analyze','compare','classify','contrast','distinguish','infer','separate','explain',\n                 'select','categorize','connect','differentiate','divide','order','prioritize','survey',\n                 'calculate','conclude','correlate','deduce','devise','diagram','dissect','estimate',\n                 'evaluate','experiment','focus','illustrate','organize','outline','plan','question','test']\nsynthesis_list = ['design','compose','create','plan','combine','formulate','invent','hypothesize','substitute',\n                  'write','compile','construct','develop','generalize','integrate','modify','organize','prepare',\n                  'produce','rearrange','rewrite','adapt','anticipate','arrange','assemble','choose','collaborate',\n                  'facilitate','imagine','intervene','make','manage','originate','propose','simulate','solve',\n                  'support','test','validate']\nevaluation_list = ['design','compose','create','plan','combine','formulate','invent','hypothesize','substitute',\n                   'write','compile','construct','develop','generalize','integrate','modify','organize','prepare',\n                   'produce','rearrange','rewrite','adapt','anticipate','arrange','assemble','choose','collaborate',\n                   'facilitate','imagine','intervene','make','manage','originate','propose','simulate','solve',\n                   'support','test','validate']\n\n\n# then we construct the keyword labeling functions\ndef keyword_lookup(x, keywords, label):\n    if any(word in x.text.lower() for word in keywords):\n        return label\n    return ABSTAIN\n\ndef make_keyword_lf(keywords, label, name):\n    return LabelingFunction(\n        name= name + '_keywords',\n        f=keyword_lookup,\n        resources=dict(keywords=keywords, label=label),\n    )\n\nkeyword_knowledge = make_keyword_lf(knowledge_list, KNOWLEDGE, 'knowledge')\nkeyword_comprehension = make_keyword_lf(comprehension_list, COMPREHENSION, 'comprehension')\nkeyword_application = make_keyword_lf(application_list, APPLICATION, 'application')\nkeyword_analysis = make_keyword_lf(analysis_list, ANALYSIS, 'analysis')\nkeyword_synthesis = make_keyword_lf(synthesis_list, SYNTHESIS, 'synthesis')\nkeyword_evaluation = make_keyword_lf(evaluation_list, EVALUATION, 'evaluation')",
      "execution_count": null,
      "outputs": []
    },
    {
      "cell_type": "markdown",
      "source": "#### labeling function based on the flesch readability score",
      "metadata": {
        "tags": [],
        "cell_id": "00016-87c30494-75f3-481f-bdca-5f4e275958ec",
        "deepnote_cell_type": "markdown"
      }
    },
    {
      "cell_type": "code",
      "metadata": {
        "tags": [],
        "cell_id": "00017-f45af62d-9cd6-40a6-95f9-c10260ce624f",
        "deepnote_to_be_reexecuted": false,
        "source_hash": "81f4cae9",
        "execution_start": 1618619174757,
        "execution_millis": 21,
        "deepnote_cell_type": "code"
      },
      "source": "@labeling_function()\ndef low_readability(x):\n    return KNOWLEDGE if x.flesch_score < 50 else ABSTAIN",
      "execution_count": null,
      "outputs": []
    },
    {
      "cell_type": "markdown",
      "source": "#### assemble the labeling functions into a list",
      "metadata": {
        "tags": [],
        "cell_id": "00020-84fac700-396f-4cfa-9000-5176ab3010bf",
        "deepnote_cell_type": "markdown"
      }
    },
    {
      "cell_type": "code",
      "metadata": {
        "tags": [],
        "cell_id": "00021-dd7fb6c8-a215-4dfc-a9ee-5c4c0dd04cec",
        "deepnote_to_be_reexecuted": false,
        "source_hash": "4d9c07e9",
        "execution_start": 1618619175957,
        "execution_millis": 21,
        "deepnote_cell_type": "code"
      },
      "source": "lfs = [short, why, keyword_knowledge, keyword_comprehension,\n       keyword_application, keyword_analysis, keyword_synthesis, keyword_evaluation,\n       glossary_high, low_readability]",
      "execution_count": null,
      "outputs": []
    },
    {
      "cell_type": "markdown",
      "source": "# The label model and the model training utility",
      "metadata": {
        "tags": [],
        "cell_id": "00022-645b81fb-8924-494e-9f48-d79ab288ff1a",
        "deepnote_cell_type": "markdown"
      }
    },
    {
      "cell_type": "code",
      "metadata": {
        "tags": [],
        "cell_id": "00023-0178038a-2545-44cb-ae1b-7d7c58cd0281",
        "deepnote_to_be_reexecuted": false,
        "source_hash": "88d923ee",
        "execution_start": 1618619176895,
        "execution_millis": 1110,
        "deepnote_cell_type": "code"
      },
      "source": "from snorkel.labeling import filter_unlabeled_dataframe\nfrom snorkel.labeling import PandasLFApplier\nfrom snorkel.labeling import LFAnalysis\nfrom sklearn.metrics import confusion_matrix\nfrom snorkel.labeling.model import LabelModel\n\n\ndef weak_supervision_experiment(X_train, X_test, y_train, y_test, lfs, analysis = True, datasets = True, save_analysis = False):\n    \"\"\"\n    -trains a weak supervision model on X_train with given lf list\n    -if analysis=True, shows output of LF analysis and confusion matrix\n    -if datasets=True, makes predictions and returns weak and supervised versions\n    \n    \"\"\"\n    ## setting applier and applying to data\n    applier = PandasLFApplier(lfs=lfs)\n    L_train = applier.apply(df=X_train)\n    L_test = applier.apply(df=X_test)\n    \n    ## fitting model\n    label_model = LabelModel(cardinality=2, verbose=True)\n    label_model.fit(L_train=L_train, n_epochs=2000, log_freq=100)\n    #label_model.fit(L_train=L_train, n_epochs=500, log_freq=100)\n\n    \n    label_model_acc = label_model.score(L=L_test, Y=y_test, tie_break_policy=\"random\")[\n    \"accuracy\"\n]\n    \n    ## analysis\n    if analysis:\n\n        if save_analysis:\n            return LFAnalysis(L=L_train, lfs=lfs).lf_summary()\n\n        display(LFAnalysis(L=L_train, lfs=lfs).lf_summary())\n\n        print(f\"{'Label Model Accuracy:':<25} {label_model_acc * 100:.1f}%\")\n\n        predictions = label_model.predict(L_test)\n        display(confusion_matrix(y_test.adj_label, predictions))\n\n    ## filtered training sets for supervised learning\n    if datasets:\n        train_predictions = label_model.predict(L_train)\n        train_predictions = pd.DataFrame(train_predictions, columns = ['predictions'])\n\n        y_train_weak = train_predictions[train_predictions['predictions'] != -1]\n        X_train_weak = X_train.reset_index(drop = True)\n\n        #need to use same filter on x_train\n        X_train_weak = X_train_weak[(train_predictions['predictions'] != -1)]\n        \n        accuracy = round(label_model_acc * 100, 2)\n        \n        return [accuracy, X_train_weak, y_train_weak, X_train, X_test, y_train, y_test]\n\n              \n    accuracy = round(label_model_acc * 100, 2)\n              \n    return accuracy\n    ",
      "execution_count": null,
      "outputs": []
    },
    {
      "cell_type": "markdown",
      "source": "# train the label model\nThe label model is trained on noisy labels produced by labeling functions. the resulting label can produce \"weak\" bloom labels for questions\n\nplease see the `bloom_preprocess_utils.py` for info on the relevant dataframe fields\n\nthe `adj_label` is the adjusted label because we are doing binary classification in this work. i.e., bloom 1 becomes label 0, and bloom 2 - 6 becomes label 1",
      "metadata": {
        "tags": [],
        "cell_id": "00024-d3fa805a-7a4f-4f1f-bd67-1bc766bf4a74",
        "deepnote_cell_type": "markdown"
      }
    },
    {
      "cell_type": "code",
      "metadata": {
        "tags": [],
        "cell_id": "00026-f46c0431-1480-4a86-8cd1-7fb9b1d94f9a",
        "deepnote_to_be_reexecuted": false,
        "source_hash": "14b3eb27",
        "execution_millis": 37535,
        "execution_start": 1618619194236,
        "deepnote_cell_type": "code"
      },
      "source": "# get the relevant data\nX = pd.DataFrame(preprocess_df[['text', 'text_length', 'adj_label', 'num_words', 'glossary_terms', 'flesch_score']])\ny = pd.DataFrame(preprocess_df['adj_label'])\n\n# train the label model\nX_train, X_test, y_train, y_test = train_test_split(X, y, test_size = .2, random_state = seed)\n\nout = weak_supervision_experiment(X_train, X_test, y_train, y_test, lfs, True, datasets=True)",
      "execution_count": null,
      "outputs": [
        {
          "name": "stderr",
          "text": "100%|██████████| 14175/14175 [00:27<00:00, 521.13it/s]\n100%|██████████| 3544/3544 [00:07<00:00, 485.85it/s]\n",
          "output_type": "stream"
        },
        {
          "data": {
            "application/vnd.deepnote.dataframe.v2+json": {
              "row_count": 10,
              "column_count": 5,
              "columns": [
                {
                  "name": "j",
                  "dtype": "int64",
                  "stats": {
                    "unique_count": 10,
                    "nan_count": 0,
                    "min": "0",
                    "max": "9",
                    "histogram": [
                      {
                        "bin_start": 0,
                        "bin_end": 0.9,
                        "count": 1
                      },
                      {
                        "bin_start": 0.9,
                        "bin_end": 1.8,
                        "count": 1
                      },
                      {
                        "bin_start": 1.8,
                        "bin_end": 2.7,
                        "count": 1
                      },
                      {
                        "bin_start": 2.7,
                        "bin_end": 3.6,
                        "count": 1
                      },
                      {
                        "bin_start": 3.6,
                        "bin_end": 4.5,
                        "count": 1
                      },
                      {
                        "bin_start": 4.5,
                        "bin_end": 5.4,
                        "count": 1
                      },
                      {
                        "bin_start": 5.4,
                        "bin_end": 6.3,
                        "count": 1
                      },
                      {
                        "bin_start": 6.3,
                        "bin_end": 7.2,
                        "count": 1
                      },
                      {
                        "bin_start": 7.2,
                        "bin_end": 8.1,
                        "count": 1
                      },
                      {
                        "bin_start": 8.1,
                        "bin_end": 9,
                        "count": 1
                      }
                    ]
                  }
                },
                {
                  "name": "Polarity",
                  "dtype": "object",
                  "stats": {
                    "unique_count": 10,
                    "nan_count": 0,
                    "categories": [
                      {
                        "name": "[1]",
                        "count": 7
                      },
                      {
                        "name": "[0]",
                        "count": 3
                      }
                    ]
                  }
                },
                {
                  "name": "Coverage",
                  "dtype": "float64",
                  "stats": {
                    "unique_count": 9,
                    "nan_count": 0,
                    "min": "0.007125220458553792",
                    "max": "0.4362610229276896",
                    "histogram": [
                      {
                        "bin_start": 0.007125220458553792,
                        "bin_end": 0.05003880070546737,
                        "count": 1
                      },
                      {
                        "bin_start": 0.05003880070546737,
                        "bin_end": 0.09295238095238095,
                        "count": 0
                      },
                      {
                        "bin_start": 0.09295238095238095,
                        "bin_end": 0.13586596119929453,
                        "count": 1
                      },
                      {
                        "bin_start": 0.13586596119929453,
                        "bin_end": 0.1787795414462081,
                        "count": 3
                      },
                      {
                        "bin_start": 0.1787795414462081,
                        "bin_end": 0.2216931216931217,
                        "count": 1
                      },
                      {
                        "bin_start": 0.2216931216931217,
                        "bin_end": 0.26460670194003527,
                        "count": 0
                      },
                      {
                        "bin_start": 0.26460670194003527,
                        "bin_end": 0.3075202821869488,
                        "count": 1
                      },
                      {
                        "bin_start": 0.3075202821869488,
                        "bin_end": 0.35043386243386243,
                        "count": 2
                      },
                      {
                        "bin_start": 0.35043386243386243,
                        "bin_end": 0.39334744268077604,
                        "count": 0
                      },
                      {
                        "bin_start": 0.39334744268077604,
                        "bin_end": 0.4362610229276896,
                        "count": 1
                      }
                    ]
                  }
                },
                {
                  "name": "Overlaps",
                  "dtype": "float64",
                  "stats": {
                    "unique_count": 9,
                    "nan_count": 0,
                    "min": "0.005855379188712522",
                    "max": "0.326984126984127",
                    "histogram": [
                      {
                        "bin_start": 0.005855379188712522,
                        "bin_end": 0.03796825396825397,
                        "count": 1
                      },
                      {
                        "bin_start": 0.03796825396825397,
                        "bin_end": 0.07008112874779542,
                        "count": 0
                      },
                      {
                        "bin_start": 0.07008112874779542,
                        "bin_end": 0.10219400352733686,
                        "count": 1
                      },
                      {
                        "bin_start": 0.10219400352733686,
                        "bin_end": 0.1343068783068783,
                        "count": 0
                      },
                      {
                        "bin_start": 0.1343068783068783,
                        "bin_end": 0.16641975308641974,
                        "count": 3
                      },
                      {
                        "bin_start": 0.16641975308641974,
                        "bin_end": 0.19853262786596118,
                        "count": 0
                      },
                      {
                        "bin_start": 0.19853262786596118,
                        "bin_end": 0.23064550264550263,
                        "count": 1
                      },
                      {
                        "bin_start": 0.23064550264550263,
                        "bin_end": 0.2627583774250441,
                        "count": 1
                      },
                      {
                        "bin_start": 0.2627583774250441,
                        "bin_end": 0.29487125220458554,
                        "count": 1
                      },
                      {
                        "bin_start": 0.29487125220458554,
                        "bin_end": 0.326984126984127,
                        "count": 2
                      }
                    ]
                  }
                },
                {
                  "name": "Conflicts",
                  "dtype": "float64",
                  "stats": {
                    "unique_count": 9,
                    "nan_count": 0,
                    "min": "0.0033862433862433864",
                    "max": "0.1983774250440917",
                    "histogram": [
                      {
                        "bin_start": 0.0033862433862433864,
                        "bin_end": 0.022885361552028218,
                        "count": 1
                      },
                      {
                        "bin_start": 0.022885361552028218,
                        "bin_end": 0.042384479717813055,
                        "count": 0
                      },
                      {
                        "bin_start": 0.042384479717813055,
                        "bin_end": 0.06188359788359789,
                        "count": 1
                      },
                      {
                        "bin_start": 0.06188359788359789,
                        "bin_end": 0.08138271604938271,
                        "count": 0
                      },
                      {
                        "bin_start": 0.08138271604938271,
                        "bin_end": 0.10088183421516755,
                        "count": 2
                      },
                      {
                        "bin_start": 0.10088183421516755,
                        "bin_end": 0.12038095238095238,
                        "count": 2
                      },
                      {
                        "bin_start": 0.12038095238095238,
                        "bin_end": 0.1398800705467372,
                        "count": 1
                      },
                      {
                        "bin_start": 0.1398800705467372,
                        "bin_end": 0.15937918871252205,
                        "count": 0
                      },
                      {
                        "bin_start": 0.15937918871252205,
                        "bin_end": 0.1788783068783069,
                        "count": 1
                      },
                      {
                        "bin_start": 0.1788783068783069,
                        "bin_end": 0.1983774250440917,
                        "count": 2
                      }
                    ]
                  }
                },
                {
                  "name": "_deepnote_index_column",
                  "dtype": "object"
                }
              ],
              "rows_top": [
                {
                  "j": 0,
                  "Polarity": "[0]",
                  "Coverage": 0.4362610229276896,
                  "Overlaps": 0.326984126984127,
                  "Conflicts": 0.11132275132275132,
                  "_deepnote_index_column": "short"
                },
                {
                  "j": 1,
                  "Polarity": "[1]",
                  "Coverage": 0.007125220458553792,
                  "Overlaps": 0.005855379188712522,
                  "Conflicts": 0.0033862433862433864,
                  "_deepnote_index_column": "why"
                },
                {
                  "j": 2,
                  "Polarity": "[0]",
                  "Coverage": 0.3225396825396825,
                  "Overlaps": 0.30977072310405646,
                  "Conflicts": 0.13354497354497355,
                  "_deepnote_index_column": "knowledge_keywords"
                },
                {
                  "j": 3,
                  "Polarity": "[1]",
                  "Coverage": 0.21925925925925926,
                  "Overlaps": 0.21199294532627866,
                  "Conflicts": 0.16380952380952382,
                  "_deepnote_index_column": "comprehension_keywords"
                },
                {
                  "j": 4,
                  "Polarity": "[1]",
                  "Coverage": 0.2850793650793651,
                  "Overlaps": 0.24811287477954144,
                  "Conflicts": 0.18511463844797177,
                  "_deepnote_index_column": "application_keywords"
                },
                {
                  "j": 5,
                  "Polarity": "[1]",
                  "Coverage": 0.16585537918871252,
                  "Overlaps": 0.16197530864197532,
                  "Conflicts": 0.10208112874779542,
                  "_deepnote_index_column": "analysis_keywords"
                },
                {
                  "j": 6,
                  "Polarity": "[1]",
                  "Coverage": 0.14052910052910053,
                  "Overlaps": 0.14052910052910053,
                  "Conflicts": 0.09178130511463845,
                  "_deepnote_index_column": "synthesis_keywords"
                },
                {
                  "j": 7,
                  "Polarity": "[1]",
                  "Coverage": 0.14052910052910053,
                  "Overlaps": 0.14052910052910053,
                  "Conflicts": 0.09178130511463845,
                  "_deepnote_index_column": "evaluation_keywords"
                },
                {
                  "j": 8,
                  "Polarity": "[1]",
                  "Coverage": 0.10433862433862434,
                  "Overlaps": 0.08465608465608465,
                  "Conflicts": 0.053192239858906525,
                  "_deepnote_index_column": "comprehension_glossary"
                },
                {
                  "j": 9,
                  "Polarity": "[0]",
                  "Coverage": 0.3298765432098765,
                  "Overlaps": 0.2708994708994709,
                  "Conflicts": 0.1983774250440917,
                  "_deepnote_index_column": "low_readability"
                }
              ],
              "rows_bottom": null
            },
            "text/plain": "                        j Polarity  Coverage  Overlaps  Conflicts\nshort                   0      [0]  0.436261  0.326984   0.111323\nwhy                     1      [1]  0.007125  0.005855   0.003386\nknowledge_keywords      2      [0]  0.322540  0.309771   0.133545\ncomprehension_keywords  3      [1]  0.219259  0.211993   0.163810\napplication_keywords    4      [1]  0.285079  0.248113   0.185115\nanalysis_keywords       5      [1]  0.165855  0.161975   0.102081\nsynthesis_keywords      6      [1]  0.140529  0.140529   0.091781\nevaluation_keywords     7      [1]  0.140529  0.140529   0.091781\ncomprehension_glossary  8      [1]  0.104339  0.084656   0.053192\nlow_readability         9      [0]  0.329877  0.270899   0.198377",
            "text/html": "<div>\n<style scoped>\n    .dataframe tbody tr th:only-of-type {\n        vertical-align: middle;\n    }\n\n    .dataframe tbody tr th {\n        vertical-align: top;\n    }\n\n    .dataframe thead th {\n        text-align: right;\n    }\n</style>\n<table border=\"1\" class=\"dataframe\">\n  <thead>\n    <tr style=\"text-align: right;\">\n      <th></th>\n      <th>j</th>\n      <th>Polarity</th>\n      <th>Coverage</th>\n      <th>Overlaps</th>\n      <th>Conflicts</th>\n    </tr>\n  </thead>\n  <tbody>\n    <tr>\n      <th>short</th>\n      <td>0</td>\n      <td>[0]</td>\n      <td>0.436261</td>\n      <td>0.326984</td>\n      <td>0.111323</td>\n    </tr>\n    <tr>\n      <th>why</th>\n      <td>1</td>\n      <td>[1]</td>\n      <td>0.007125</td>\n      <td>0.005855</td>\n      <td>0.003386</td>\n    </tr>\n    <tr>\n      <th>knowledge_keywords</th>\n      <td>2</td>\n      <td>[0]</td>\n      <td>0.322540</td>\n      <td>0.309771</td>\n      <td>0.133545</td>\n    </tr>\n    <tr>\n      <th>comprehension_keywords</th>\n      <td>3</td>\n      <td>[1]</td>\n      <td>0.219259</td>\n      <td>0.211993</td>\n      <td>0.163810</td>\n    </tr>\n    <tr>\n      <th>application_keywords</th>\n      <td>4</td>\n      <td>[1]</td>\n      <td>0.285079</td>\n      <td>0.248113</td>\n      <td>0.185115</td>\n    </tr>\n    <tr>\n      <th>analysis_keywords</th>\n      <td>5</td>\n      <td>[1]</td>\n      <td>0.165855</td>\n      <td>0.161975</td>\n      <td>0.102081</td>\n    </tr>\n    <tr>\n      <th>synthesis_keywords</th>\n      <td>6</td>\n      <td>[1]</td>\n      <td>0.140529</td>\n      <td>0.140529</td>\n      <td>0.091781</td>\n    </tr>\n    <tr>\n      <th>evaluation_keywords</th>\n      <td>7</td>\n      <td>[1]</td>\n      <td>0.140529</td>\n      <td>0.140529</td>\n      <td>0.091781</td>\n    </tr>\n    <tr>\n      <th>comprehension_glossary</th>\n      <td>8</td>\n      <td>[1]</td>\n      <td>0.104339</td>\n      <td>0.084656</td>\n      <td>0.053192</td>\n    </tr>\n    <tr>\n      <th>low_readability</th>\n      <td>9</td>\n      <td>[0]</td>\n      <td>0.329877</td>\n      <td>0.270899</td>\n      <td>0.198377</td>\n    </tr>\n  </tbody>\n</table>\n</div>"
          },
          "metadata": {},
          "output_type": "display_data"
        },
        {
          "name": "stdout",
          "text": "Label Model Accuracy:     74.4%\n",
          "output_type": "stream"
        },
        {
          "data": {
            "text/plain": "array([[   0,    0,    0],\n       [  62,  865,  373],\n       [ 304,  368, 1572]])"
          },
          "metadata": {},
          "output_type": "display_data"
        }
      ]
    },
    {
      "cell_type": "markdown",
      "source": "# train a classifier on the \"weakly\" labeled dataset and compare to fully supervised methods\nhere we include linear SVM. one can use the many other choices of classifiers in sk-learn package.\n\ntext featurization is done via tf-idf. one can also use the many other choices of text vectorization methods such as word embeddings or BERT embeddings.",
      "metadata": {
        "tags": [],
        "cell_id": "00026-12e8c979-ca8d-4ed2-ac84-4f3d46d0668e",
        "deepnote_cell_type": "markdown"
      }
    },
    {
      "cell_type": "code",
      "metadata": {
        "tags": [],
        "cell_id": "00027-78da53fd-82ec-4d72-bc9e-7a5c738504a2",
        "deepnote_to_be_reexecuted": false,
        "source_hash": "125b8726",
        "execution_start": 1618619254083,
        "execution_millis": 821,
        "deepnote_cell_type": "code"
      },
      "source": "# first define a utility function for the comparison\ndef supervision_experiment(dataset, preprocess_method, model_names, model_list):\n    \n    X_train_weak = dataset[0]['text']\n    y_train_weak = dataset[1]\n    \n    X_train = dataset[2]['text']\n    y_train = dataset[4]\n    \n    X_test = dataset[3]['text']\n    y_test = dataset[5]\n    \n    results_list = []\n    \n    if preprocess_method == 'tfidf':\n        v = TfidfVectorizer()\n\n        x_train_weak = v.fit_transform(X_train_weak.values.astype('U'))\n        x_test_weak = v.transform(X_test.values.astype('U'))\n\n        x_train = v.fit_transform(X_train.values.astype('U'))\n        x_test = v.transform(X_test.values.astype('U'))\n\n        \n    elif preprocess_method == 'embedding':\n        model = SentenceTransformer('distilbert-base-nli-mean-tokens')\n        \n        x_train_weak = model.encode(X_train_weak.values)\n        x_test_weak = model.encode(X_test.values)\n        \n        x_train = model.encode(X_train.values)\n        x_test = model.encode(X_test.values)\n    \n    else:\n        #throw error\n        print('need to set preprocessing method')\n        \n\n    for name, clf in zip(model_names, model_list):\n        \n        \n        #### supervised portion\n        \n        clf.fit(x_train, y_train);\n        supervised_train_score = clf.score(x_train, y_train);\n        supervised_score = clf.score(x_test, y_test);\n        \n        #### weak supervision portion\n        \n        clf.fit(x_train_weak, y_train_weak);\n        weak_train_score = clf.score(x_train_weak, y_train_weak);\n        weak_score = clf.score(x_test_weak, y_test);\n\n        row = {'name' : name,\n               'super_train_score': supervised_train_score,\n               'super_test_score': supervised_score,\n               'weak_train_score': weak_train_score,\n               'weak_test_score': weak_score}\n        results_list.append(row)\n        \n        print(\"Done with:\", name)\n     \n    #construct result df\n    i = 0\n    \n    my_dict = {}\n    \n    for row in results_list:\n        \n        my_dict[i] = {\"Classifier\": row['name'],\n                   \"Supervised Train Accuracy\": row['super_train_score'],\n                  \"Supervised Test Accuracy\": row['super_test_score'],\n                   \"Weak Train Accuracy\": row['weak_train_score'],\n                   \"Weak Test Accuracy\": row['weak_test_score']\n                  }\n        i += 1\n        \n    \n    return pd.DataFrame.from_dict(my_dict, \"index\")",
      "execution_count": null,
      "outputs": []
    },
    {
      "cell_type": "markdown",
      "source": "#### define a classifier and run the comparison",
      "metadata": {
        "tags": [],
        "cell_id": "00028-06d071e6-795f-4260-9cd9-bf6cd2ca6edb",
        "deepnote_cell_type": "markdown"
      }
    },
    {
      "cell_type": "code",
      "metadata": {
        "tags": [],
        "cell_id": "00029-4c4668a3-929d-4446-95fd-c4e5dc2ebd20",
        "deepnote_to_be_reexecuted": false,
        "source_hash": "ad7950ba",
        "execution_millis": 83810,
        "execution_start": 1618619434781,
        "deepnote_cell_type": "code"
      },
      "source": "linear_svm_clf = SVC(kernel=\"linear\", C=0.025)\n\nsupervision_experiment(out[1:], 'tfidf', [\"Linear SVM\"],[linear_svm_clf])",
      "execution_count": null,
      "outputs": [
        {
          "name": "stderr",
          "text": "/root/venv/lib/python3.7/site-packages/sklearn/utils/validation.py:724: DataConversionWarning: A column-vector y was passed when a 1d array was expected. Please change the shape of y to (n_samples, ), for example using ravel().\n  y = column_or_1d(y, warn=True)\nDone with: Linear SVM\n",
          "output_type": "stream"
        },
        {
          "output_type": "execute_result",
          "execution_count": 22,
          "data": {
            "application/vnd.deepnote.dataframe.v2+json": {
              "row_count": 1,
              "column_count": 5,
              "columns": [
                {
                  "name": "Classifier",
                  "dtype": "object",
                  "stats": {
                    "unique_count": 1,
                    "nan_count": 0,
                    "categories": [
                      {
                        "name": "Linear SVM",
                        "count": 1
                      }
                    ]
                  }
                },
                {
                  "name": "Supervised Train Accuracy",
                  "dtype": "float64",
                  "stats": {
                    "unique_count": 1,
                    "nan_count": 0,
                    "min": "0.7954850088183422",
                    "max": "0.7954850088183422",
                    "histogram": [
                      {
                        "bin_start": 0.29548500881834217,
                        "bin_end": 0.39548500881834214,
                        "count": 0
                      },
                      {
                        "bin_start": 0.39548500881834214,
                        "bin_end": 0.4954850088183422,
                        "count": 0
                      },
                      {
                        "bin_start": 0.4954850088183422,
                        "bin_end": 0.5954850088183422,
                        "count": 0
                      },
                      {
                        "bin_start": 0.5954850088183422,
                        "bin_end": 0.6954850088183422,
                        "count": 0
                      },
                      {
                        "bin_start": 0.6954850088183422,
                        "bin_end": 0.7954850088183422,
                        "count": 0
                      },
                      {
                        "bin_start": 0.7954850088183422,
                        "bin_end": 0.8954850088183423,
                        "count": 1
                      },
                      {
                        "bin_start": 0.8954850088183423,
                        "bin_end": 0.9954850088183422,
                        "count": 0
                      },
                      {
                        "bin_start": 0.9954850088183422,
                        "bin_end": 1.095485008818342,
                        "count": 0
                      },
                      {
                        "bin_start": 1.095485008818342,
                        "bin_end": 1.1954850088183422,
                        "count": 0
                      },
                      {
                        "bin_start": 1.1954850088183422,
                        "bin_end": 1.2954850088183423,
                        "count": 0
                      }
                    ]
                  }
                },
                {
                  "name": "Supervised Test Accuracy",
                  "dtype": "float64",
                  "stats": {
                    "unique_count": 1,
                    "nan_count": 0,
                    "min": "0.7923250564334086",
                    "max": "0.7923250564334086",
                    "histogram": [
                      {
                        "bin_start": 0.29232505643340856,
                        "bin_end": 0.39232505643340854,
                        "count": 0
                      },
                      {
                        "bin_start": 0.39232505643340854,
                        "bin_end": 0.49232505643340857,
                        "count": 0
                      },
                      {
                        "bin_start": 0.49232505643340857,
                        "bin_end": 0.5923250564334086,
                        "count": 0
                      },
                      {
                        "bin_start": 0.5923250564334086,
                        "bin_end": 0.6923250564334086,
                        "count": 0
                      },
                      {
                        "bin_start": 0.6923250564334086,
                        "bin_end": 0.7923250564334086,
                        "count": 0
                      },
                      {
                        "bin_start": 0.7923250564334086,
                        "bin_end": 0.8923250564334086,
                        "count": 1
                      },
                      {
                        "bin_start": 0.8923250564334086,
                        "bin_end": 0.9923250564334086,
                        "count": 0
                      },
                      {
                        "bin_start": 0.9923250564334086,
                        "bin_end": 1.0923250564334086,
                        "count": 0
                      },
                      {
                        "bin_start": 1.0923250564334086,
                        "bin_end": 1.1923250564334085,
                        "count": 0
                      },
                      {
                        "bin_start": 1.1923250564334085,
                        "bin_end": 1.2923250564334086,
                        "count": 0
                      }
                    ]
                  }
                },
                {
                  "name": "Weak Train Accuracy",
                  "dtype": "float64",
                  "stats": {
                    "unique_count": 1,
                    "nan_count": 0,
                    "min": "0.7861344208297388",
                    "max": "0.7861344208297388",
                    "histogram": [
                      {
                        "bin_start": 0.28613442082973883,
                        "bin_end": 0.3861344208297388,
                        "count": 0
                      },
                      {
                        "bin_start": 0.3861344208297388,
                        "bin_end": 0.4861344208297388,
                        "count": 0
                      },
                      {
                        "bin_start": 0.4861344208297388,
                        "bin_end": 0.5861344208297388,
                        "count": 0
                      },
                      {
                        "bin_start": 0.5861344208297388,
                        "bin_end": 0.6861344208297389,
                        "count": 0
                      },
                      {
                        "bin_start": 0.6861344208297389,
                        "bin_end": 0.7861344208297387,
                        "count": 0
                      },
                      {
                        "bin_start": 0.7861344208297387,
                        "bin_end": 0.8861344208297388,
                        "count": 1
                      },
                      {
                        "bin_start": 0.8861344208297388,
                        "bin_end": 0.9861344208297388,
                        "count": 0
                      },
                      {
                        "bin_start": 0.9861344208297388,
                        "bin_end": 1.0861344208297388,
                        "count": 0
                      },
                      {
                        "bin_start": 1.0861344208297388,
                        "bin_end": 1.1861344208297386,
                        "count": 0
                      },
                      {
                        "bin_start": 1.1861344208297386,
                        "bin_end": 1.2861344208297387,
                        "count": 0
                      }
                    ]
                  }
                },
                {
                  "name": "Weak Test Accuracy",
                  "dtype": "float64",
                  "stats": {
                    "unique_count": 1,
                    "nan_count": 0,
                    "min": "0.787528216704289",
                    "max": "0.787528216704289",
                    "histogram": [
                      {
                        "bin_start": 0.28752821670428896,
                        "bin_end": 0.38752821670428894,
                        "count": 0
                      },
                      {
                        "bin_start": 0.38752821670428894,
                        "bin_end": 0.487528216704289,
                        "count": 0
                      },
                      {
                        "bin_start": 0.487528216704289,
                        "bin_end": 0.587528216704289,
                        "count": 0
                      },
                      {
                        "bin_start": 0.587528216704289,
                        "bin_end": 0.687528216704289,
                        "count": 0
                      },
                      {
                        "bin_start": 0.687528216704289,
                        "bin_end": 0.787528216704289,
                        "count": 0
                      },
                      {
                        "bin_start": 0.787528216704289,
                        "bin_end": 0.887528216704289,
                        "count": 1
                      },
                      {
                        "bin_start": 0.887528216704289,
                        "bin_end": 0.987528216704289,
                        "count": 0
                      },
                      {
                        "bin_start": 0.987528216704289,
                        "bin_end": 1.087528216704289,
                        "count": 0
                      },
                      {
                        "bin_start": 1.087528216704289,
                        "bin_end": 1.187528216704289,
                        "count": 0
                      },
                      {
                        "bin_start": 1.187528216704289,
                        "bin_end": 1.287528216704289,
                        "count": 0
                      }
                    ]
                  }
                },
                {
                  "name": "_deepnote_index_column",
                  "dtype": "int64"
                }
              ],
              "rows_top": [
                {
                  "Classifier": "Linear SVM",
                  "Supervised Train Accuracy": 0.7954850088183422,
                  "Supervised Test Accuracy": 0.7923250564334086,
                  "Weak Train Accuracy": 0.7861344208297388,
                  "Weak Test Accuracy": 0.787528216704289,
                  "_deepnote_index_column": 0
                }
              ],
              "rows_bottom": null
            },
            "text/plain": "   Classifier  Supervised Train Accuracy  Supervised Test Accuracy  \\\n0  Linear SVM                   0.795485                  0.792325   \n\n   Weak Train Accuracy  Weak Test Accuracy  \n0             0.786134            0.787528  ",
            "text/html": "<div>\n<style scoped>\n    .dataframe tbody tr th:only-of-type {\n        vertical-align: middle;\n    }\n\n    .dataframe tbody tr th {\n        vertical-align: top;\n    }\n\n    .dataframe thead th {\n        text-align: right;\n    }\n</style>\n<table border=\"1\" class=\"dataframe\">\n  <thead>\n    <tr style=\"text-align: right;\">\n      <th></th>\n      <th>Classifier</th>\n      <th>Supervised Train Accuracy</th>\n      <th>Supervised Test Accuracy</th>\n      <th>Weak Train Accuracy</th>\n      <th>Weak Test Accuracy</th>\n    </tr>\n  </thead>\n  <tbody>\n    <tr>\n      <th>0</th>\n      <td>Linear SVM</td>\n      <td>0.795485</td>\n      <td>0.792325</td>\n      <td>0.786134</td>\n      <td>0.787528</td>\n    </tr>\n  </tbody>\n</table>\n</div>"
          },
          "metadata": {}
        }
      ]
    },
    {
      "cell_type": "markdown",
      "source": "<a style='text-decoration:none;line-height:16px;display:flex;color:#5B5B62;padding:10px;justify-content:end;' href='https://deepnote.com?utm_source=created-in-deepnote-cell&projectId=bcbe6184-b36a-4097-968c-a2ee6ebad722' target=\"_blank\">\n<img alt='Created in deepnote.com' style='display:inline;max-height:16px;margin:0px;margin-right:7.5px;' src='data:image/svg+xml;base64,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' > </img>\nCreated in <span style='font-weight:600;margin-left:4px;'>Deepnote</span></a>",
      "metadata": {
        "tags": [],
        "created_in_deepnote_cell": true,
        "deepnote_cell_type": "markdown"
      }
    }
  ],
  "nbformat": 4,
  "nbformat_minor": 2,
  "metadata": {
    "orig_nbformat": 2,
    "deepnote": {
      "is_reactive": false
    },
    "deepnote_notebook_id": "7d64c4d5-c482-4aa6-b344-838e47da027d",
    "deepnote_execution_queue": []
  }
}